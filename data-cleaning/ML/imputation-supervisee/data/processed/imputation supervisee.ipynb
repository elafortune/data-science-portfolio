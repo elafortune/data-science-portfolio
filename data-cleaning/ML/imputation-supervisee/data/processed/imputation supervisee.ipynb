{
 "cells": [
  {
   "cell_type": "code",
   "execution_count": 2,
   "id": "d24322be",
   "metadata": {},
   "outputs": [],
   "source": [
    "import numpy as np \n",
    "import matplotlib.pyplot as plt\n",
    "import pandas as pd"
   ]
  },
  {
   "cell_type": "code",
   "execution_count": 3,
   "id": "1005563a",
   "metadata": {},
   "outputs": [
    {
     "name": "stderr",
     "output_type": "stream",
     "text": [
      "/tmp/ipykernel_5232/1750711206.py:1: FutureWarning: In a future version of pandas all arguments of read_csv except for the argument 'filepath_or_buffer' will be keyword-only.\n",
      "  data=pd.read_csv(\"~/Téléchargements/user_exo_2M.csv\",\",\")\n"
     ]
    }
   ],
   "source": [
    "#chargement des données\n",
    "data=pd.read_csv(\"~/Téléchargements/user_exo_2M.csv\",\",\")"
   ]
  },
  {
   "cell_type": "code",
   "execution_count": 4,
   "id": "2f0c80f0",
   "metadata": {},
   "outputs": [
    {
     "name": "stdout",
     "output_type": "stream",
     "text": [
      "<class 'pandas.core.frame.DataFrame'>\n",
      "RangeIndex: 2000000 entries, 0 to 1999999\n",
      "Data columns (total 5 columns):\n",
      " #   Column     Dtype  \n",
      "---  ------     -----  \n",
      " 0   yob        int64  \n",
      " 1   domain     object \n",
      " 2   firstname  object \n",
      " 3   zipcode    float64\n",
      " 4   gender     object \n",
      "dtypes: float64(1), int64(1), object(3)\n",
      "memory usage: 76.3+ MB\n"
     ]
    }
   ],
   "source": [
    "data.info()"
   ]
  },
  {
   "cell_type": "code",
   "execution_count": 5,
   "id": "be195de9",
   "metadata": {},
   "outputs": [
    {
     "data": {
      "text/html": [
       "<div>\n",
       "<style scoped>\n",
       "    .dataframe tbody tr th:only-of-type {\n",
       "        vertical-align: middle;\n",
       "    }\n",
       "\n",
       "    .dataframe tbody tr th {\n",
       "        vertical-align: top;\n",
       "    }\n",
       "\n",
       "    .dataframe thead th {\n",
       "        text-align: right;\n",
       "    }\n",
       "</style>\n",
       "<table border=\"1\" class=\"dataframe\">\n",
       "  <thead>\n",
       "    <tr style=\"text-align: right;\">\n",
       "      <th></th>\n",
       "      <th>yob</th>\n",
       "      <th>domain</th>\n",
       "      <th>firstname</th>\n",
       "      <th>zipcode</th>\n",
       "      <th>gender</th>\n",
       "    </tr>\n",
       "  </thead>\n",
       "  <tbody>\n",
       "    <tr>\n",
       "      <th>0</th>\n",
       "      <td>1985</td>\n",
       "      <td>@wanadoo.fr</td>\n",
       "      <td>b08253b305fb5ec</td>\n",
       "      <td>94450.0</td>\n",
       "      <td>F</td>\n",
       "    </tr>\n",
       "    <tr>\n",
       "      <th>1</th>\n",
       "      <td>1961</td>\n",
       "      <td>@sfr.fr</td>\n",
       "      <td>7ff135854376850</td>\n",
       "      <td>78580.0</td>\n",
       "      <td>M</td>\n",
       "    </tr>\n",
       "    <tr>\n",
       "      <th>2</th>\n",
       "      <td>1977</td>\n",
       "      <td>@free.fr</td>\n",
       "      <td>172522ec1028ab7</td>\n",
       "      <td>62640.0</td>\n",
       "      <td>NaN</td>\n",
       "    </tr>\n",
       "    <tr>\n",
       "      <th>3</th>\n",
       "      <td>-1</td>\n",
       "      <td>@hotmail.com</td>\n",
       "      <td>d3ca5dde60f88db</td>\n",
       "      <td>94100.0</td>\n",
       "      <td>M</td>\n",
       "    </tr>\n",
       "    <tr>\n",
       "      <th>4</th>\n",
       "      <td>-1</td>\n",
       "      <td>@gmail.com</td>\n",
       "      <td>bdaae16837dd576</td>\n",
       "      <td>78100.0</td>\n",
       "      <td>NaN</td>\n",
       "    </tr>\n",
       "    <tr>\n",
       "      <th>5</th>\n",
       "      <td>1975</td>\n",
       "      <td>@wanadoo.fr</td>\n",
       "      <td>57c2877c1d84c4b</td>\n",
       "      <td>92600.0</td>\n",
       "      <td>M</td>\n",
       "    </tr>\n",
       "    <tr>\n",
       "      <th>6</th>\n",
       "      <td>1974</td>\n",
       "      <td>@gmail.com</td>\n",
       "      <td>d47de916cacd0b7</td>\n",
       "      <td>65200.0</td>\n",
       "      <td>M</td>\n",
       "    </tr>\n",
       "    <tr>\n",
       "      <th>7</th>\n",
       "      <td>1957</td>\n",
       "      <td>@free.fr</td>\n",
       "      <td>7ff135854376850</td>\n",
       "      <td>83250.0</td>\n",
       "      <td>NaN</td>\n",
       "    </tr>\n",
       "    <tr>\n",
       "      <th>8</th>\n",
       "      <td>-1</td>\n",
       "      <td>@live.fr</td>\n",
       "      <td>a5410ee37744c57</td>\n",
       "      <td>5100.0</td>\n",
       "      <td>M</td>\n",
       "    </tr>\n",
       "    <tr>\n",
       "      <th>9</th>\n",
       "      <td>-1</td>\n",
       "      <td>@wanadoo.fr</td>\n",
       "      <td>60784186ea5b29f</td>\n",
       "      <td>68300.0</td>\n",
       "      <td>NaN</td>\n",
       "    </tr>\n",
       "    <tr>\n",
       "      <th>10</th>\n",
       "      <td>1961</td>\n",
       "      <td>@gmail.com</td>\n",
       "      <td>aa47f8215c6f30a</td>\n",
       "      <td>67380.0</td>\n",
       "      <td>M</td>\n",
       "    </tr>\n",
       "    <tr>\n",
       "      <th>11</th>\n",
       "      <td>1976</td>\n",
       "      <td>@yahoo.fr</td>\n",
       "      <td>66aad1c91c97f58</td>\n",
       "      <td>94250.0</td>\n",
       "      <td>M</td>\n",
       "    </tr>\n",
       "    <tr>\n",
       "      <th>12</th>\n",
       "      <td>1980</td>\n",
       "      <td>@wanadoo.fr</td>\n",
       "      <td>d9fee41b5836f7e</td>\n",
       "      <td>33600.0</td>\n",
       "      <td>NaN</td>\n",
       "    </tr>\n",
       "    <tr>\n",
       "      <th>13</th>\n",
       "      <td>-1</td>\n",
       "      <td>@free.fr</td>\n",
       "      <td>d780182f77b1214</td>\n",
       "      <td>24100.0</td>\n",
       "      <td>M</td>\n",
       "    </tr>\n",
       "    <tr>\n",
       "      <th>14</th>\n",
       "      <td>-1</td>\n",
       "      <td>@yahoo.com</td>\n",
       "      <td>0d0de813c110549</td>\n",
       "      <td>75004.0</td>\n",
       "      <td>NaN</td>\n",
       "    </tr>\n",
       "    <tr>\n",
       "      <th>15</th>\n",
       "      <td>1972</td>\n",
       "      <td>@hotmail.com</td>\n",
       "      <td>f7885ad36a637f4</td>\n",
       "      <td>6200.0</td>\n",
       "      <td>M</td>\n",
       "    </tr>\n",
       "    <tr>\n",
       "      <th>16</th>\n",
       "      <td>1972</td>\n",
       "      <td>@free.fr</td>\n",
       "      <td>18c3abc1b9dba53</td>\n",
       "      <td>33400.0</td>\n",
       "      <td>F</td>\n",
       "    </tr>\n",
       "    <tr>\n",
       "      <th>17</th>\n",
       "      <td>1965</td>\n",
       "      <td>@free.fr</td>\n",
       "      <td>2bb010060d682fe</td>\n",
       "      <td>31100.0</td>\n",
       "      <td>NaN</td>\n",
       "    </tr>\n",
       "    <tr>\n",
       "      <th>18</th>\n",
       "      <td>-1</td>\n",
       "      <td>@orange.fr</td>\n",
       "      <td>6f31afdd1748f40</td>\n",
       "      <td>74350.0</td>\n",
       "      <td>M</td>\n",
       "    </tr>\n",
       "    <tr>\n",
       "      <th>19</th>\n",
       "      <td>-1</td>\n",
       "      <td>@club-internet.fr</td>\n",
       "      <td>2a4ac4d8e4ebdf7</td>\n",
       "      <td>65200.0</td>\n",
       "      <td>NaN</td>\n",
       "    </tr>\n",
       "  </tbody>\n",
       "</table>\n",
       "</div>"
      ],
      "text/plain": [
       "     yob             domain        firstname  zipcode gender\n",
       "0   1985        @wanadoo.fr  b08253b305fb5ec  94450.0      F\n",
       "1   1961            @sfr.fr  7ff135854376850  78580.0      M\n",
       "2   1977           @free.fr  172522ec1028ab7  62640.0    NaN\n",
       "3     -1       @hotmail.com  d3ca5dde60f88db  94100.0      M\n",
       "4     -1         @gmail.com  bdaae16837dd576  78100.0    NaN\n",
       "5   1975        @wanadoo.fr  57c2877c1d84c4b  92600.0      M\n",
       "6   1974         @gmail.com  d47de916cacd0b7  65200.0      M\n",
       "7   1957           @free.fr  7ff135854376850  83250.0    NaN\n",
       "8     -1           @live.fr  a5410ee37744c57   5100.0      M\n",
       "9     -1        @wanadoo.fr  60784186ea5b29f  68300.0    NaN\n",
       "10  1961         @gmail.com  aa47f8215c6f30a  67380.0      M\n",
       "11  1976          @yahoo.fr  66aad1c91c97f58  94250.0      M\n",
       "12  1980        @wanadoo.fr  d9fee41b5836f7e  33600.0    NaN\n",
       "13    -1           @free.fr  d780182f77b1214  24100.0      M\n",
       "14    -1         @yahoo.com  0d0de813c110549  75004.0    NaN\n",
       "15  1972       @hotmail.com  f7885ad36a637f4   6200.0      M\n",
       "16  1972           @free.fr  18c3abc1b9dba53  33400.0      F\n",
       "17  1965           @free.fr  2bb010060d682fe  31100.0    NaN\n",
       "18    -1         @orange.fr  6f31afdd1748f40  74350.0      M\n",
       "19    -1  @club-internet.fr  2a4ac4d8e4ebdf7  65200.0    NaN"
      ]
     },
     "execution_count": 5,
     "metadata": {},
     "output_type": "execute_result"
    }
   ],
   "source": [
    "#première vision du dataset on remarque les valeurs manquantes dans les colonnes gender et yob \n",
    "data.head(20)"
   ]
  },
  {
   "cell_type": "code",
   "execution_count": 6,
   "id": "b27c9923",
   "metadata": {},
   "outputs": [
    {
     "data": {
      "text/plain": [
       "yob               0\n",
       "domain            0\n",
       "firstname         0\n",
       "zipcode       17194\n",
       "gender       804954\n",
       "dtype: int64"
      ]
     },
     "execution_count": 6,
     "metadata": {},
     "output_type": "execute_result"
    }
   ],
   "source": [
    "data.isna().sum()\n",
    "# plus de 800 000 valeurs manquantes dans gender\n",
    "# plus de 17 000 valeurs manquantes dans zipcode"
   ]
  },
  {
   "cell_type": "code",
   "execution_count": 7,
   "id": "ef8b5e82",
   "metadata": {},
   "outputs": [
    {
     "data": {
      "text/plain": [
       "-1       800000\n",
       " 1985     40116\n",
       " 1990     36679\n",
       " 1988     35236\n",
       " 1987     35120\n",
       "          ...  \n",
       " 1926       113\n",
       " 1911        97\n",
       " 1922        80\n",
       " 1924        73\n",
       " 1923        55\n",
       "Name: yob, Length: 85, dtype: int64"
      ]
     },
     "execution_count": 7,
     "metadata": {},
     "output_type": "execute_result"
    }
   ],
   "source": [
    "data[\"yob\"].value_counts()\n",
    "#800 000 valeurs manquantes en date de naissance"
   ]
  },
  {
   "cell_type": "code",
   "execution_count": 8,
   "id": "5eb82a61",
   "metadata": {},
   "outputs": [],
   "source": [
    "corr_values=data.corr()"
   ]
  },
  {
   "cell_type": "code",
   "execution_count": 9,
   "id": "80412f02",
   "metadata": {},
   "outputs": [
    {
     "name": "stdout",
     "output_type": "stream",
     "text": [
      "<class 'pandas.core.frame.DataFrame'>\n",
      "RangeIndex: 2000000 entries, 0 to 1999999\n",
      "Data columns (total 5 columns):\n",
      " #   Column     Dtype  \n",
      "---  ------     -----  \n",
      " 0   yob        int64  \n",
      " 1   domain     object \n",
      " 2   firstname  object \n",
      " 3   zipcode    float64\n",
      " 4   gender     object \n",
      "dtypes: float64(1), int64(1), object(3)\n",
      "memory usage: 76.3+ MB\n"
     ]
    }
   ],
   "source": [
    "data.info()"
   ]
  },
  {
   "cell_type": "code",
   "execution_count": 10,
   "id": "1378f832",
   "metadata": {},
   "outputs": [
    {
     "name": "stdout",
     "output_type": "stream",
     "text": [
      "yob        1.000000\n",
      "zipcode   -0.000098\n",
      "Name: yob, dtype: float64\n"
     ]
    }
   ],
   "source": [
    "print(corr_values[\"yob\"])"
   ]
  },
  {
   "cell_type": "code",
   "execution_count": 11,
   "id": "8cad5842",
   "metadata": {},
   "outputs": [],
   "source": [
    "#imputation supervisée pour déterminer les  800 000 valeurs manquantes dans les colonnes yob et gender"
   ]
  },
  {
   "cell_type": "code",
   "execution_count": 12,
   "id": "dede8fac",
   "metadata": {},
   "outputs": [],
   "source": [
    "data_known=data[(data[\"gender\"].notna()) & (data[\"yob\"] != -1)]\n",
    "data_missing=data[(data[\"gender\"].isna()) | (data[\"yob\"] == -1)]"
   ]
  },
  {
   "cell_type": "code",
   "execution_count": 13,
   "id": "3775ffa1",
   "metadata": {},
   "outputs": [
    {
     "name": "stdout",
     "output_type": "stream",
     "text": [
      "p-value : 0.0\n"
     ]
    }
   ],
   "source": [
    "# on vérifie la corrélation de firstname avec gender\n",
    "\n",
    "from scipy.stats import chi2_contingency\n",
    "\n",
    "contingency = pd.crosstab(data_known[\"firstname\"], data_known[\"gender\"])\n",
    "chi2, p, dof, expected = chi2_contingency(contingency)\n",
    "print(f\"p-value : {p}\")\n",
    "#p<0.05 donc pas d'indépendance entre les deux colonnes"
   ]
  },
  {
   "cell_type": "code",
   "execution_count": 14,
   "id": "7a145f05",
   "metadata": {},
   "outputs": [
    {
     "data": {
      "text/plain": [
       "0.8917362877408304"
      ]
     },
     "execution_count": 14,
     "metadata": {},
     "output_type": "execute_result"
    }
   ],
   "source": [
    "import pandas as pd\n",
    "import numpy as np\n",
    "from scipy.stats import chi2_contingency\n",
    "\n",
    "def cramers_v(x, y):\n",
    "    confusion_matrix = pd.crosstab(x, y)\n",
    "    chi2 = chi2_contingency(confusion_matrix)[0]\n",
    "    n = confusion_matrix.sum().sum()\n",
    "    phi2 = chi2 / n\n",
    "    r, k = confusion_matrix.shape\n",
    "    phi2_corr = max(0, phi2 - ((k-1)*(r-1))/(n-1))\n",
    "    r_corr = r - ((r-1)**2)/(n-1)\n",
    "    k_corr = k - ((k-1)**2)/(n-1)\n",
    "    return np.sqrt(phi2_corr / min((k_corr-1), (r_corr-1)))\n",
    "\n",
    "cramers_v(data_known[\"firstname\"], data_known[\"gender\"])\n",
    "# de même 0.89 montre une forte corrélation entre firstname et gender d'où l'hypothèse de forte dépendance entre ces variables\n",
    "\n",
    "\n"
   ]
  },
  {
   "cell_type": "code",
   "execution_count": 15,
   "id": "e1dbc0f1",
   "metadata": {},
   "outputs": [
    {
     "data": {
      "text/plain": [
       "0.09482447800521282"
      ]
     },
     "execution_count": 15,
     "metadata": {},
     "output_type": "execute_result"
    }
   ],
   "source": [
    "cramers_v(data_known[\"domain\"], data_known[\"gender\"])\n",
    "#faible corrélation indépendance probable, le domaine n'est pas une bonne feature pour gender"
   ]
  },
  {
   "cell_type": "code",
   "execution_count": 16,
   "id": "ef6ae662",
   "metadata": {},
   "outputs": [
    {
     "name": "stdout",
     "output_type": "stream",
     "text": [
      "p-value : 8.409228003455207e-09\n"
     ]
    }
   ],
   "source": [
    "from scipy.stats import f_oneway\n",
    "\n",
    "grouped = [group[\"zipcode\"].dropna().values for name, group in data_known.groupby(\"gender\")]\n",
    "f_stat, p_val = f_oneway(*grouped)\n",
    "print(f\"p-value : {p_val}\")\n",
    "#valeur inférieure à 0.05 donc une corrélation significative"
   ]
  },
  {
   "cell_type": "code",
   "execution_count": 17,
   "id": "2a6e1aef",
   "metadata": {},
   "outputs": [],
   "source": [
    "#on va encoder via du target encoding firstname et retirer domain pour entrainer notre modèle et effectuer des \n",
    "#prédictions sur gender"
   ]
  },
  {
   "cell_type": "code",
   "execution_count": 18,
   "id": "570ae43e",
   "metadata": {},
   "outputs": [
    {
     "data": {
      "text/plain": [
       "yob             0\n",
       "domain          0\n",
       "firstname       0\n",
       "zipcode      5956\n",
       "gender          0\n",
       "dtype: int64"
      ]
     },
     "execution_count": 18,
     "metadata": {},
     "output_type": "execute_result"
    }
   ],
   "source": [
    "data_known.isna().sum()"
   ]
  },
  {
   "cell_type": "code",
   "execution_count": 19,
   "id": "2b156440",
   "metadata": {},
   "outputs": [],
   "source": [
    "data_known=data_known.dropna()"
   ]
  },
  {
   "cell_type": "code",
   "execution_count": 20,
   "id": "0cc2dfaa",
   "metadata": {},
   "outputs": [
    {
     "data": {
      "text/plain": [
       "yob          0\n",
       "domain       0\n",
       "firstname    0\n",
       "zipcode      0\n",
       "gender       0\n",
       "dtype: int64"
      ]
     },
     "execution_count": 20,
     "metadata": {},
     "output_type": "execute_result"
    }
   ],
   "source": [
    "#on vérifie qu'il n'y a plus de valeurs NaN \n",
    "data_known.isna().sum()"
   ]
  },
  {
   "cell_type": "code",
   "execution_count": 21,
   "id": "e347c0b0",
   "metadata": {},
   "outputs": [],
   "source": [
    "data_known_gender=data_known.copy()\n",
    "data_known_yob=data_known.copy()"
   ]
  },
  {
   "cell_type": "code",
   "execution_count": 22,
   "id": "b4841cbc",
   "metadata": {},
   "outputs": [],
   "source": [
    "#modèle pour la variable gender"
   ]
  },
  {
   "cell_type": "code",
   "execution_count": 23,
   "id": "8e5f5398",
   "metadata": {},
   "outputs": [],
   "source": [
    "\n",
    "data_known_gender=data_known_gender.drop(columns=\"domain\",axis=1)"
   ]
  },
  {
   "cell_type": "code",
   "execution_count": 24,
   "id": "37fdb910",
   "metadata": {},
   "outputs": [
    {
     "name": "stdout",
     "output_type": "stream",
     "text": [
      "<class 'pandas.core.frame.DataFrame'>\n",
      "Int64Index: 790763 entries, 0 to 1999996\n",
      "Data columns (total 4 columns):\n",
      " #   Column     Non-Null Count   Dtype  \n",
      "---  ------     --------------   -----  \n",
      " 0   yob        790763 non-null  int64  \n",
      " 1   firstname  790763 non-null  object \n",
      " 2   zipcode    790763 non-null  float64\n",
      " 3   gender     790763 non-null  object \n",
      "dtypes: float64(1), int64(1), object(2)\n",
      "memory usage: 30.2+ MB\n"
     ]
    }
   ],
   "source": [
    "data_known_gender.info()"
   ]
  },
  {
   "cell_type": "code",
   "execution_count": 25,
   "id": "1d2a73d6",
   "metadata": {},
   "outputs": [],
   "source": [
    "#target encoder\n",
    "# Étape 1 : Convertir 'gender' en valeurs numériques (M=1, F=0)\n",
    "data_known_gender['gender_encoded'] = data_known['gender'].map({'M': 1, 'F': 0})\n",
    "\n",
    "\n",
    "target_encoding = data_known_gender.groupby('firstname')['gender_encoded'].mean()\n",
    "\n",
    "# Remplacer 'firstname' par la moyenne de la cible\n",
    "data_known_gender['firstname_encoded'] = data_known_gender['firstname'].map(target_encoding)"
   ]
  },
  {
   "cell_type": "code",
   "execution_count": 26,
   "id": "02d53b28",
   "metadata": {
    "scrolled": true
   },
   "outputs": [
    {
     "name": "stdout",
     "output_type": "stream",
     "text": [
      "<class 'pandas.core.frame.DataFrame'>\n",
      "Int64Index: 790763 entries, 0 to 1999996\n",
      "Data columns (total 6 columns):\n",
      " #   Column             Non-Null Count   Dtype  \n",
      "---  ------             --------------   -----  \n",
      " 0   yob                790763 non-null  int64  \n",
      " 1   firstname          790763 non-null  object \n",
      " 2   zipcode            790763 non-null  float64\n",
      " 3   gender             790763 non-null  object \n",
      " 4   gender_encoded     790763 non-null  int64  \n",
      " 5   firstname_encoded  790763 non-null  float64\n",
      "dtypes: float64(2), int64(2), object(2)\n",
      "memory usage: 42.2+ MB\n"
     ]
    }
   ],
   "source": [
    "data_known_gender.info()"
   ]
  },
  {
   "cell_type": "code",
   "execution_count": 27,
   "id": "490d774b",
   "metadata": {},
   "outputs": [],
   "source": [
    "data_known_gender_labels=data_known_gender[\"gender_encoded\"]"
   ]
  },
  {
   "cell_type": "code",
   "execution_count": 28,
   "id": "b85f8854",
   "metadata": {},
   "outputs": [],
   "source": [
    "data_known_gender=data_known_gender.drop(columns=[\"gender\",\"gender_encoded\",\"firstname\"],axis=1)"
   ]
  },
  {
   "cell_type": "code",
   "execution_count": 29,
   "id": "eb17fe6c",
   "metadata": {},
   "outputs": [],
   "source": [
    "X=data_known_gender\n",
    "y=data_known_gender_labels"
   ]
  },
  {
   "cell_type": "code",
   "execution_count": 30,
   "id": "6ffac408",
   "metadata": {},
   "outputs": [],
   "source": [
    "from sklearn.model_selection import train_test_split\n",
    "# répartitions de notre dataset en entrainement et test\n",
    "X_train_gender, X_test_gender, y_train_gender, y_test_gender = train_test_split(X, y, test_size=0.2, random_state=42)\n",
    "\n"
   ]
  },
  {
   "cell_type": "code",
   "execution_count": 31,
   "id": "2264cc9d",
   "metadata": {},
   "outputs": [
    {
     "data": {
      "text/html": [
       "<style>#sk-container-id-1 {\n",
       "  /* Definition of color scheme common for light and dark mode */\n",
       "  --sklearn-color-text: black;\n",
       "  --sklearn-color-line: gray;\n",
       "  /* Definition of color scheme for unfitted estimators */\n",
       "  --sklearn-color-unfitted-level-0: #fff5e6;\n",
       "  --sklearn-color-unfitted-level-1: #f6e4d2;\n",
       "  --sklearn-color-unfitted-level-2: #ffe0b3;\n",
       "  --sklearn-color-unfitted-level-3: chocolate;\n",
       "  /* Definition of color scheme for fitted estimators */\n",
       "  --sklearn-color-fitted-level-0: #f0f8ff;\n",
       "  --sklearn-color-fitted-level-1: #d4ebff;\n",
       "  --sklearn-color-fitted-level-2: #b3dbfd;\n",
       "  --sklearn-color-fitted-level-3: cornflowerblue;\n",
       "\n",
       "  /* Specific color for light theme */\n",
       "  --sklearn-color-text-on-default-background: var(--sg-text-color, var(--theme-code-foreground, var(--jp-content-font-color1, black)));\n",
       "  --sklearn-color-background: var(--sg-background-color, var(--theme-background, var(--jp-layout-color0, white)));\n",
       "  --sklearn-color-border-box: var(--sg-text-color, var(--theme-code-foreground, var(--jp-content-font-color1, black)));\n",
       "  --sklearn-color-icon: #696969;\n",
       "\n",
       "  @media (prefers-color-scheme: dark) {\n",
       "    /* Redefinition of color scheme for dark theme */\n",
       "    --sklearn-color-text-on-default-background: var(--sg-text-color, var(--theme-code-foreground, var(--jp-content-font-color1, white)));\n",
       "    --sklearn-color-background: var(--sg-background-color, var(--theme-background, var(--jp-layout-color0, #111)));\n",
       "    --sklearn-color-border-box: var(--sg-text-color, var(--theme-code-foreground, var(--jp-content-font-color1, white)));\n",
       "    --sklearn-color-icon: #878787;\n",
       "  }\n",
       "}\n",
       "\n",
       "#sk-container-id-1 {\n",
       "  color: var(--sklearn-color-text);\n",
       "}\n",
       "\n",
       "#sk-container-id-1 pre {\n",
       "  padding: 0;\n",
       "}\n",
       "\n",
       "#sk-container-id-1 input.sk-hidden--visually {\n",
       "  border: 0;\n",
       "  clip: rect(1px 1px 1px 1px);\n",
       "  clip: rect(1px, 1px, 1px, 1px);\n",
       "  height: 1px;\n",
       "  margin: -1px;\n",
       "  overflow: hidden;\n",
       "  padding: 0;\n",
       "  position: absolute;\n",
       "  width: 1px;\n",
       "}\n",
       "\n",
       "#sk-container-id-1 div.sk-dashed-wrapped {\n",
       "  border: 1px dashed var(--sklearn-color-line);\n",
       "  margin: 0 0.4em 0.5em 0.4em;\n",
       "  box-sizing: border-box;\n",
       "  padding-bottom: 0.4em;\n",
       "  background-color: var(--sklearn-color-background);\n",
       "}\n",
       "\n",
       "#sk-container-id-1 div.sk-container {\n",
       "  /* jupyter's `normalize.less` sets `[hidden] { display: none; }`\n",
       "     but bootstrap.min.css set `[hidden] { display: none !important; }`\n",
       "     so we also need the `!important` here to be able to override the\n",
       "     default hidden behavior on the sphinx rendered scikit-learn.org.\n",
       "     See: https://github.com/scikit-learn/scikit-learn/issues/21755 */\n",
       "  display: inline-block !important;\n",
       "  position: relative;\n",
       "}\n",
       "\n",
       "#sk-container-id-1 div.sk-text-repr-fallback {\n",
       "  display: none;\n",
       "}\n",
       "\n",
       "div.sk-parallel-item,\n",
       "div.sk-serial,\n",
       "div.sk-item {\n",
       "  /* draw centered vertical line to link estimators */\n",
       "  background-image: linear-gradient(var(--sklearn-color-text-on-default-background), var(--sklearn-color-text-on-default-background));\n",
       "  background-size: 2px 100%;\n",
       "  background-repeat: no-repeat;\n",
       "  background-position: center center;\n",
       "}\n",
       "\n",
       "/* Parallel-specific style estimator block */\n",
       "\n",
       "#sk-container-id-1 div.sk-parallel-item::after {\n",
       "  content: \"\";\n",
       "  width: 100%;\n",
       "  border-bottom: 2px solid var(--sklearn-color-text-on-default-background);\n",
       "  flex-grow: 1;\n",
       "}\n",
       "\n",
       "#sk-container-id-1 div.sk-parallel {\n",
       "  display: flex;\n",
       "  align-items: stretch;\n",
       "  justify-content: center;\n",
       "  background-color: var(--sklearn-color-background);\n",
       "  position: relative;\n",
       "}\n",
       "\n",
       "#sk-container-id-1 div.sk-parallel-item {\n",
       "  display: flex;\n",
       "  flex-direction: column;\n",
       "}\n",
       "\n",
       "#sk-container-id-1 div.sk-parallel-item:first-child::after {\n",
       "  align-self: flex-end;\n",
       "  width: 50%;\n",
       "}\n",
       "\n",
       "#sk-container-id-1 div.sk-parallel-item:last-child::after {\n",
       "  align-self: flex-start;\n",
       "  width: 50%;\n",
       "}\n",
       "\n",
       "#sk-container-id-1 div.sk-parallel-item:only-child::after {\n",
       "  width: 0;\n",
       "}\n",
       "\n",
       "/* Serial-specific style estimator block */\n",
       "\n",
       "#sk-container-id-1 div.sk-serial {\n",
       "  display: flex;\n",
       "  flex-direction: column;\n",
       "  align-items: center;\n",
       "  background-color: var(--sklearn-color-background);\n",
       "  padding-right: 1em;\n",
       "  padding-left: 1em;\n",
       "}\n",
       "\n",
       "\n",
       "/* Toggleable style: style used for estimator/Pipeline/ColumnTransformer box that is\n",
       "clickable and can be expanded/collapsed.\n",
       "- Pipeline and ColumnTransformer use this feature and define the default style\n",
       "- Estimators will overwrite some part of the style using the `sk-estimator` class\n",
       "*/\n",
       "\n",
       "/* Pipeline and ColumnTransformer style (default) */\n",
       "\n",
       "#sk-container-id-1 div.sk-toggleable {\n",
       "  /* Default theme specific background. It is overwritten whether we have a\n",
       "  specific estimator or a Pipeline/ColumnTransformer */\n",
       "  background-color: var(--sklearn-color-background);\n",
       "}\n",
       "\n",
       "/* Toggleable label */\n",
       "#sk-container-id-1 label.sk-toggleable__label {\n",
       "  cursor: pointer;\n",
       "  display: block;\n",
       "  width: 100%;\n",
       "  margin-bottom: 0;\n",
       "  padding: 0.5em;\n",
       "  box-sizing: border-box;\n",
       "  text-align: center;\n",
       "}\n",
       "\n",
       "#sk-container-id-1 label.sk-toggleable__label-arrow:before {\n",
       "  /* Arrow on the left of the label */\n",
       "  content: \"▸\";\n",
       "  float: left;\n",
       "  margin-right: 0.25em;\n",
       "  color: var(--sklearn-color-icon);\n",
       "}\n",
       "\n",
       "#sk-container-id-1 label.sk-toggleable__label-arrow:hover:before {\n",
       "  color: var(--sklearn-color-text);\n",
       "}\n",
       "\n",
       "/* Toggleable content - dropdown */\n",
       "\n",
       "#sk-container-id-1 div.sk-toggleable__content {\n",
       "  max-height: 0;\n",
       "  max-width: 0;\n",
       "  overflow: hidden;\n",
       "  text-align: left;\n",
       "  /* unfitted */\n",
       "  background-color: var(--sklearn-color-unfitted-level-0);\n",
       "}\n",
       "\n",
       "#sk-container-id-1 div.sk-toggleable__content.fitted {\n",
       "  /* fitted */\n",
       "  background-color: var(--sklearn-color-fitted-level-0);\n",
       "}\n",
       "\n",
       "#sk-container-id-1 div.sk-toggleable__content pre {\n",
       "  margin: 0.2em;\n",
       "  border-radius: 0.25em;\n",
       "  color: var(--sklearn-color-text);\n",
       "  /* unfitted */\n",
       "  background-color: var(--sklearn-color-unfitted-level-0);\n",
       "}\n",
       "\n",
       "#sk-container-id-1 div.sk-toggleable__content.fitted pre {\n",
       "  /* unfitted */\n",
       "  background-color: var(--sklearn-color-fitted-level-0);\n",
       "}\n",
       "\n",
       "#sk-container-id-1 input.sk-toggleable__control:checked~div.sk-toggleable__content {\n",
       "  /* Expand drop-down */\n",
       "  max-height: 200px;\n",
       "  max-width: 100%;\n",
       "  overflow: auto;\n",
       "}\n",
       "\n",
       "#sk-container-id-1 input.sk-toggleable__control:checked~label.sk-toggleable__label-arrow:before {\n",
       "  content: \"▾\";\n",
       "}\n",
       "\n",
       "/* Pipeline/ColumnTransformer-specific style */\n",
       "\n",
       "#sk-container-id-1 div.sk-label input.sk-toggleable__control:checked~label.sk-toggleable__label {\n",
       "  color: var(--sklearn-color-text);\n",
       "  background-color: var(--sklearn-color-unfitted-level-2);\n",
       "}\n",
       "\n",
       "#sk-container-id-1 div.sk-label.fitted input.sk-toggleable__control:checked~label.sk-toggleable__label {\n",
       "  background-color: var(--sklearn-color-fitted-level-2);\n",
       "}\n",
       "\n",
       "/* Estimator-specific style */\n",
       "\n",
       "/* Colorize estimator box */\n",
       "#sk-container-id-1 div.sk-estimator input.sk-toggleable__control:checked~label.sk-toggleable__label {\n",
       "  /* unfitted */\n",
       "  background-color: var(--sklearn-color-unfitted-level-2);\n",
       "}\n",
       "\n",
       "#sk-container-id-1 div.sk-estimator.fitted input.sk-toggleable__control:checked~label.sk-toggleable__label {\n",
       "  /* fitted */\n",
       "  background-color: var(--sklearn-color-fitted-level-2);\n",
       "}\n",
       "\n",
       "#sk-container-id-1 div.sk-label label.sk-toggleable__label,\n",
       "#sk-container-id-1 div.sk-label label {\n",
       "  /* The background is the default theme color */\n",
       "  color: var(--sklearn-color-text-on-default-background);\n",
       "}\n",
       "\n",
       "/* On hover, darken the color of the background */\n",
       "#sk-container-id-1 div.sk-label:hover label.sk-toggleable__label {\n",
       "  color: var(--sklearn-color-text);\n",
       "  background-color: var(--sklearn-color-unfitted-level-2);\n",
       "}\n",
       "\n",
       "/* Label box, darken color on hover, fitted */\n",
       "#sk-container-id-1 div.sk-label.fitted:hover label.sk-toggleable__label.fitted {\n",
       "  color: var(--sklearn-color-text);\n",
       "  background-color: var(--sklearn-color-fitted-level-2);\n",
       "}\n",
       "\n",
       "/* Estimator label */\n",
       "\n",
       "#sk-container-id-1 div.sk-label label {\n",
       "  font-family: monospace;\n",
       "  font-weight: bold;\n",
       "  display: inline-block;\n",
       "  line-height: 1.2em;\n",
       "}\n",
       "\n",
       "#sk-container-id-1 div.sk-label-container {\n",
       "  text-align: center;\n",
       "}\n",
       "\n",
       "/* Estimator-specific */\n",
       "#sk-container-id-1 div.sk-estimator {\n",
       "  font-family: monospace;\n",
       "  border: 1px dotted var(--sklearn-color-border-box);\n",
       "  border-radius: 0.25em;\n",
       "  box-sizing: border-box;\n",
       "  margin-bottom: 0.5em;\n",
       "  /* unfitted */\n",
       "  background-color: var(--sklearn-color-unfitted-level-0);\n",
       "}\n",
       "\n",
       "#sk-container-id-1 div.sk-estimator.fitted {\n",
       "  /* fitted */\n",
       "  background-color: var(--sklearn-color-fitted-level-0);\n",
       "}\n",
       "\n",
       "/* on hover */\n",
       "#sk-container-id-1 div.sk-estimator:hover {\n",
       "  /* unfitted */\n",
       "  background-color: var(--sklearn-color-unfitted-level-2);\n",
       "}\n",
       "\n",
       "#sk-container-id-1 div.sk-estimator.fitted:hover {\n",
       "  /* fitted */\n",
       "  background-color: var(--sklearn-color-fitted-level-2);\n",
       "}\n",
       "\n",
       "/* Specification for estimator info (e.g. \"i\" and \"?\") */\n",
       "\n",
       "/* Common style for \"i\" and \"?\" */\n",
       "\n",
       ".sk-estimator-doc-link,\n",
       "a:link.sk-estimator-doc-link,\n",
       "a:visited.sk-estimator-doc-link {\n",
       "  float: right;\n",
       "  font-size: smaller;\n",
       "  line-height: 1em;\n",
       "  font-family: monospace;\n",
       "  background-color: var(--sklearn-color-background);\n",
       "  border-radius: 1em;\n",
       "  height: 1em;\n",
       "  width: 1em;\n",
       "  text-decoration: none !important;\n",
       "  margin-left: 1ex;\n",
       "  /* unfitted */\n",
       "  border: var(--sklearn-color-unfitted-level-1) 1pt solid;\n",
       "  color: var(--sklearn-color-unfitted-level-1);\n",
       "}\n",
       "\n",
       ".sk-estimator-doc-link.fitted,\n",
       "a:link.sk-estimator-doc-link.fitted,\n",
       "a:visited.sk-estimator-doc-link.fitted {\n",
       "  /* fitted */\n",
       "  border: var(--sklearn-color-fitted-level-1) 1pt solid;\n",
       "  color: var(--sklearn-color-fitted-level-1);\n",
       "}\n",
       "\n",
       "/* On hover */\n",
       "div.sk-estimator:hover .sk-estimator-doc-link:hover,\n",
       ".sk-estimator-doc-link:hover,\n",
       "div.sk-label-container:hover .sk-estimator-doc-link:hover,\n",
       ".sk-estimator-doc-link:hover {\n",
       "  /* unfitted */\n",
       "  background-color: var(--sklearn-color-unfitted-level-3);\n",
       "  color: var(--sklearn-color-background);\n",
       "  text-decoration: none;\n",
       "}\n",
       "\n",
       "div.sk-estimator.fitted:hover .sk-estimator-doc-link.fitted:hover,\n",
       ".sk-estimator-doc-link.fitted:hover,\n",
       "div.sk-label-container:hover .sk-estimator-doc-link.fitted:hover,\n",
       ".sk-estimator-doc-link.fitted:hover {\n",
       "  /* fitted */\n",
       "  background-color: var(--sklearn-color-fitted-level-3);\n",
       "  color: var(--sklearn-color-background);\n",
       "  text-decoration: none;\n",
       "}\n",
       "\n",
       "/* Span, style for the box shown on hovering the info icon */\n",
       ".sk-estimator-doc-link span {\n",
       "  display: none;\n",
       "  z-index: 9999;\n",
       "  position: relative;\n",
       "  font-weight: normal;\n",
       "  right: .2ex;\n",
       "  padding: .5ex;\n",
       "  margin: .5ex;\n",
       "  width: min-content;\n",
       "  min-width: 20ex;\n",
       "  max-width: 50ex;\n",
       "  color: var(--sklearn-color-text);\n",
       "  box-shadow: 2pt 2pt 4pt #999;\n",
       "  /* unfitted */\n",
       "  background: var(--sklearn-color-unfitted-level-0);\n",
       "  border: .5pt solid var(--sklearn-color-unfitted-level-3);\n",
       "}\n",
       "\n",
       ".sk-estimator-doc-link.fitted span {\n",
       "  /* fitted */\n",
       "  background: var(--sklearn-color-fitted-level-0);\n",
       "  border: var(--sklearn-color-fitted-level-3);\n",
       "}\n",
       "\n",
       ".sk-estimator-doc-link:hover span {\n",
       "  display: block;\n",
       "}\n",
       "\n",
       "/* \"?\"-specific style due to the `<a>` HTML tag */\n",
       "\n",
       "#sk-container-id-1 a.estimator_doc_link {\n",
       "  float: right;\n",
       "  font-size: 1rem;\n",
       "  line-height: 1em;\n",
       "  font-family: monospace;\n",
       "  background-color: var(--sklearn-color-background);\n",
       "  border-radius: 1rem;\n",
       "  height: 1rem;\n",
       "  width: 1rem;\n",
       "  text-decoration: none;\n",
       "  /* unfitted */\n",
       "  color: var(--sklearn-color-unfitted-level-1);\n",
       "  border: var(--sklearn-color-unfitted-level-1) 1pt solid;\n",
       "}\n",
       "\n",
       "#sk-container-id-1 a.estimator_doc_link.fitted {\n",
       "  /* fitted */\n",
       "  border: var(--sklearn-color-fitted-level-1) 1pt solid;\n",
       "  color: var(--sklearn-color-fitted-level-1);\n",
       "}\n",
       "\n",
       "/* On hover */\n",
       "#sk-container-id-1 a.estimator_doc_link:hover {\n",
       "  /* unfitted */\n",
       "  background-color: var(--sklearn-color-unfitted-level-3);\n",
       "  color: var(--sklearn-color-background);\n",
       "  text-decoration: none;\n",
       "}\n",
       "\n",
       "#sk-container-id-1 a.estimator_doc_link.fitted:hover {\n",
       "  /* fitted */\n",
       "  background-color: var(--sklearn-color-fitted-level-3);\n",
       "}\n",
       "</style><div id=\"sk-container-id-1\" class=\"sk-top-container\"><div class=\"sk-text-repr-fallback\"><pre>RandomForestClassifier(random_state=42)</pre><b>In a Jupyter environment, please rerun this cell to show the HTML representation or trust the notebook. <br />On GitHub, the HTML representation is unable to render, please try loading this page with nbviewer.org.</b></div><div class=\"sk-container\" hidden><div class=\"sk-item\"><div class=\"sk-estimator fitted sk-toggleable\"><input class=\"sk-toggleable__control sk-hidden--visually\" id=\"sk-estimator-id-1\" type=\"checkbox\" checked><label for=\"sk-estimator-id-1\" class=\"sk-toggleable__label fitted sk-toggleable__label-arrow fitted\">&nbsp;&nbsp;RandomForestClassifier<a class=\"sk-estimator-doc-link fitted\" rel=\"noreferrer\" target=\"_blank\" href=\"https://scikit-learn.org/1.5/modules/generated/sklearn.ensemble.RandomForestClassifier.html\">?<span>Documentation for RandomForestClassifier</span></a><span class=\"sk-estimator-doc-link fitted\">i<span>Fitted</span></span></label><div class=\"sk-toggleable__content fitted\"><pre>RandomForestClassifier(random_state=42)</pre></div> </div></div></div></div>"
      ],
      "text/plain": [
       "RandomForestClassifier(random_state=42)"
      ]
     },
     "execution_count": 31,
     "metadata": {},
     "output_type": "execute_result"
    }
   ],
   "source": [
    "from sklearn.ensemble import RandomForestClassifier\n",
    "\n",
    "# Initialiser le modèle forêt aléatoire\n",
    "model = RandomForestClassifier(n_estimators=100, random_state=42)\n",
    "\n",
    "# Entraîner\n",
    "model.fit(X_train_gender, y_train_gender)\n",
    "\n"
   ]
  },
  {
   "cell_type": "code",
   "execution_count": 32,
   "id": "ca03c506",
   "metadata": {},
   "outputs": [
    {
     "name": "stdout",
     "output_type": "stream",
     "text": [
      "Accuracy : 0.94\n"
     ]
    }
   ],
   "source": [
    "# prédiction et mesure de précision du modèle\n",
    "y_pred_gender = model.predict(X_test_gender)\n",
    "from sklearn.metrics import accuracy_score\n",
    "\n",
    "accuracy = accuracy_score(y_test_gender, y_pred_gender)\n",
    "print(f\"Accuracy : {accuracy:.2f}\")\n",
    "#modèle de prédiction de gender est performant sur les données d'entrainement"
   ]
  },
  {
   "cell_type": "code",
   "execution_count": 33,
   "id": "d28becb4",
   "metadata": {},
   "outputs": [],
   "source": [
    "X_missing = data_missing.copy()"
   ]
  },
  {
   "cell_type": "code",
   "execution_count": 34,
   "id": "8520c95d",
   "metadata": {},
   "outputs": [
    {
     "data": {
      "text/plain": [
       "(1203281, 5)"
      ]
     },
     "execution_count": 34,
     "metadata": {},
     "output_type": "execute_result"
    }
   ],
   "source": [
    "data_missing.shape"
   ]
  },
  {
   "cell_type": "code",
   "execution_count": 35,
   "id": "ba226ec0",
   "metadata": {},
   "outputs": [
    {
     "data": {
      "text/html": [
       "<div>\n",
       "<style scoped>\n",
       "    .dataframe tbody tr th:only-of-type {\n",
       "        vertical-align: middle;\n",
       "    }\n",
       "\n",
       "    .dataframe tbody tr th {\n",
       "        vertical-align: top;\n",
       "    }\n",
       "\n",
       "    .dataframe thead th {\n",
       "        text-align: right;\n",
       "    }\n",
       "</style>\n",
       "<table border=\"1\" class=\"dataframe\">\n",
       "  <thead>\n",
       "    <tr style=\"text-align: right;\">\n",
       "      <th></th>\n",
       "      <th>yob</th>\n",
       "      <th>domain</th>\n",
       "      <th>firstname</th>\n",
       "      <th>zipcode</th>\n",
       "      <th>gender</th>\n",
       "    </tr>\n",
       "  </thead>\n",
       "  <tbody>\n",
       "    <tr>\n",
       "      <th>2</th>\n",
       "      <td>1977</td>\n",
       "      <td>@free.fr</td>\n",
       "      <td>172522ec1028ab7</td>\n",
       "      <td>62640.0</td>\n",
       "      <td>NaN</td>\n",
       "    </tr>\n",
       "    <tr>\n",
       "      <th>3</th>\n",
       "      <td>-1</td>\n",
       "      <td>@hotmail.com</td>\n",
       "      <td>d3ca5dde60f88db</td>\n",
       "      <td>94100.0</td>\n",
       "      <td>M</td>\n",
       "    </tr>\n",
       "    <tr>\n",
       "      <th>4</th>\n",
       "      <td>-1</td>\n",
       "      <td>@gmail.com</td>\n",
       "      <td>bdaae16837dd576</td>\n",
       "      <td>78100.0</td>\n",
       "      <td>NaN</td>\n",
       "    </tr>\n",
       "    <tr>\n",
       "      <th>7</th>\n",
       "      <td>1957</td>\n",
       "      <td>@free.fr</td>\n",
       "      <td>7ff135854376850</td>\n",
       "      <td>83250.0</td>\n",
       "      <td>NaN</td>\n",
       "    </tr>\n",
       "    <tr>\n",
       "      <th>8</th>\n",
       "      <td>-1</td>\n",
       "      <td>@live.fr</td>\n",
       "      <td>a5410ee37744c57</td>\n",
       "      <td>5100.0</td>\n",
       "      <td>M</td>\n",
       "    </tr>\n",
       "    <tr>\n",
       "      <th>...</th>\n",
       "      <td>...</td>\n",
       "      <td>...</td>\n",
       "      <td>...</td>\n",
       "      <td>...</td>\n",
       "      <td>...</td>\n",
       "    </tr>\n",
       "    <tr>\n",
       "      <th>1999993</th>\n",
       "      <td>-1</td>\n",
       "      <td>@gmail.com</td>\n",
       "      <td>2e92d0ae281932f</td>\n",
       "      <td>80090.0</td>\n",
       "      <td>F</td>\n",
       "    </tr>\n",
       "    <tr>\n",
       "      <th>1999994</th>\n",
       "      <td>-1</td>\n",
       "      <td>@orange.fr</td>\n",
       "      <td>56910c52ed70539</td>\n",
       "      <td>38100.0</td>\n",
       "      <td>NaN</td>\n",
       "    </tr>\n",
       "    <tr>\n",
       "      <th>1999997</th>\n",
       "      <td>1998</td>\n",
       "      <td>@gmail.com</td>\n",
       "      <td>029f0f59eba0903</td>\n",
       "      <td>21000.0</td>\n",
       "      <td>NaN</td>\n",
       "    </tr>\n",
       "    <tr>\n",
       "      <th>1999998</th>\n",
       "      <td>-1</td>\n",
       "      <td>@hotmail.com</td>\n",
       "      <td>deb97a759ee7b8b</td>\n",
       "      <td>26240.0</td>\n",
       "      <td>M</td>\n",
       "    </tr>\n",
       "    <tr>\n",
       "      <th>1999999</th>\n",
       "      <td>-1</td>\n",
       "      <td>@orange.fr</td>\n",
       "      <td>f11d689dda42279</td>\n",
       "      <td>6670.0</td>\n",
       "      <td>NaN</td>\n",
       "    </tr>\n",
       "  </tbody>\n",
       "</table>\n",
       "<p>1203281 rows × 5 columns</p>\n",
       "</div>"
      ],
      "text/plain": [
       "          yob        domain        firstname  zipcode gender\n",
       "2        1977      @free.fr  172522ec1028ab7  62640.0    NaN\n",
       "3          -1  @hotmail.com  d3ca5dde60f88db  94100.0      M\n",
       "4          -1    @gmail.com  bdaae16837dd576  78100.0    NaN\n",
       "7        1957      @free.fr  7ff135854376850  83250.0    NaN\n",
       "8          -1      @live.fr  a5410ee37744c57   5100.0      M\n",
       "...       ...           ...              ...      ...    ...\n",
       "1999993    -1    @gmail.com  2e92d0ae281932f  80090.0      F\n",
       "1999994    -1    @orange.fr  56910c52ed70539  38100.0    NaN\n",
       "1999997  1998    @gmail.com  029f0f59eba0903  21000.0    NaN\n",
       "1999998    -1  @hotmail.com  deb97a759ee7b8b  26240.0      M\n",
       "1999999    -1    @orange.fr  f11d689dda42279   6670.0    NaN\n",
       "\n",
       "[1203281 rows x 5 columns]"
      ]
     },
     "execution_count": 35,
     "metadata": {},
     "output_type": "execute_result"
    }
   ],
   "source": [
    "X_missing"
   ]
  },
  {
   "cell_type": "code",
   "execution_count": 36,
   "id": "5692845f",
   "metadata": {},
   "outputs": [],
   "source": [
    "X_missing_gender=X_missing[X_missing[\"gender\"].isna()]"
   ]
  },
  {
   "cell_type": "code",
   "execution_count": 37,
   "id": "293cf5f9",
   "metadata": {},
   "outputs": [],
   "source": [
    "#notre df data_known_gender mais sans certaines transformations faites précedemment\n",
    "data_known_gender_2 = data_known.copy()"
   ]
  },
  {
   "cell_type": "code",
   "execution_count": 38,
   "id": "199527f1",
   "metadata": {},
   "outputs": [
    {
     "name": "stderr",
     "output_type": "stream",
     "text": [
      "/tmp/ipykernel_5232/4075943152.py:18: SettingWithCopyWarning: \n",
      "A value is trying to be set on a copy of a slice from a DataFrame.\n",
      "Try using .loc[row_indexer,col_indexer] = value instead\n",
      "\n",
      "See the caveats in the documentation: https://pandas.pydata.org/pandas-docs/stable/user_guide/indexing.html#returning-a-view-versus-a-copy\n",
      "  X_missing_gender['firstname_encoded'] = X_missing['firstname'].map(encoding_map)\n",
      "/tmp/ipykernel_5232/4075943152.py:21: SettingWithCopyWarning: \n",
      "A value is trying to be set on a copy of a slice from a DataFrame\n",
      "\n",
      "See the caveats in the documentation: https://pandas.pydata.org/pandas-docs/stable/user_guide/indexing.html#returning-a-view-versus-a-copy\n",
      "  X_missing_gender['firstname_encoded'].fillna(global_mean, inplace=True)\n"
     ]
    }
   ],
   "source": [
    "#target encoder\n",
    "# Convertir 'gender' en valeurs numériques (M=1, F=0)\n",
    "data_known_gender_2['gender_encoded'] = data_known['gender'].map({'M': 1, 'F': 0})\n",
    "\n",
    "\n",
    "target_encoding = data_known_gender_2.groupby('firstname')['gender_encoded'].mean()\n",
    "\n",
    "# Remplacer 'firstname' par la moyenne de la cible\n",
    "data_known_gender_2['firstname_encoded'] = data_known_gender_2['firstname'].map(target_encoding)\n",
    "\n",
    "#target encoder en réutilisant le mapping réalisé sur les données d'entrainement\n",
    "\n",
    "#reprendre le mapping dans la variable encoding_map\n",
    "encoding_map = data_known_gender_2.groupby('firstname')['gender_encoded'].mean().to_dict()\n",
    "global_mean = np.mean(list(encoding_map.values()))\n",
    "\n",
    "#appliquer le target encoding sur X_missing\n",
    "X_missing_gender['firstname_encoded'] = X_missing['firstname'].map(encoding_map)\n",
    "\n",
    "#remplir les prénoms inconnus avec la moyenne globale\n",
    "X_missing_gender['firstname_encoded'].fillna(global_mean, inplace=True)\n"
   ]
  },
  {
   "cell_type": "code",
   "execution_count": 39,
   "id": "62f81c5a",
   "metadata": {},
   "outputs": [],
   "source": [
    "X_missing_gender=X_missing_gender.drop(columns=[\"domain\",\"firstname\",\"gender\"],axis=1)"
   ]
  },
  {
   "cell_type": "code",
   "execution_count": 40,
   "id": "4a1744fa",
   "metadata": {},
   "outputs": [
    {
     "name": "stdout",
     "output_type": "stream",
     "text": [
      "<class 'pandas.core.frame.DataFrame'>\n",
      "Int64Index: 804954 entries, 2 to 1999999\n",
      "Data columns (total 3 columns):\n",
      " #   Column             Non-Null Count   Dtype  \n",
      "---  ------             --------------   -----  \n",
      " 0   yob                804954 non-null  int64  \n",
      " 1   zipcode            796691 non-null  float64\n",
      " 2   firstname_encoded  804954 non-null  float64\n",
      "dtypes: float64(2), int64(1)\n",
      "memory usage: 24.6 MB\n"
     ]
    }
   ],
   "source": [
    "X_missing_gender.info()"
   ]
  },
  {
   "cell_type": "code",
   "execution_count": 41,
   "id": "472e78ca",
   "metadata": {
    "scrolled": true
   },
   "outputs": [],
   "source": [
    "# Prédire les valeurs de gender manquantes\n",
    "gender_pred = model.predict(X_missing_gender)\n",
    "\n"
   ]
  },
  {
   "cell_type": "code",
   "execution_count": 42,
   "id": "77e55ada",
   "metadata": {},
   "outputs": [
    {
     "data": {
      "text/plain": [
       "array([1, 1, 1, ..., 1, 0, 0])"
      ]
     },
     "execution_count": 42,
     "metadata": {},
     "output_type": "execute_result"
    }
   ],
   "source": [
    "#prédiction sur les valeurs manquantes de gender \n",
    "gender_pred"
   ]
  },
  {
   "cell_type": "code",
   "execution_count": 43,
   "id": "631b9da5",
   "metadata": {},
   "outputs": [],
   "source": [
    "# il reste justa à ajouter les prédictions dans ton DataFrame original\n",
    "data_full= data.copy()"
   ]
  },
  {
   "cell_type": "code",
   "execution_count": 44,
   "id": "4876cfb7",
   "metadata": {},
   "outputs": [
    {
     "data": {
      "text/plain": [
       "804954"
      ]
     },
     "execution_count": 44,
     "metadata": {},
     "output_type": "execute_result"
    }
   ],
   "source": [
    "data_full[\"gender\"].isna().sum()"
   ]
  },
  {
   "cell_type": "code",
   "execution_count": 45,
   "id": "3730564e",
   "metadata": {},
   "outputs": [],
   "source": [
    "# Masque pour repérer les lignes avec gender manquant\n",
    "mask_missing_gender = data_full[\"gender\"].isna()\n",
    "\n"
   ]
  },
  {
   "cell_type": "code",
   "execution_count": 46,
   "id": "2f3d4e55",
   "metadata": {},
   "outputs": [],
   "source": [
    "#verification que la taille des predictions correspond au nombre de valeurs manquantes dans le dataset initial\n",
    "assert mask_missing_gender.sum() == len(gender_pred), \"Mismatch entre NaNs et prédictions\"\n"
   ]
  },
  {
   "cell_type": "code",
   "execution_count": 47,
   "id": "7c632246",
   "metadata": {},
   "outputs": [],
   "source": [
    "# Remplacement direct\n",
    "data_full.loc[mask_missing_gender, \"gender\"] = gender_pred\n"
   ]
  },
  {
   "cell_type": "code",
   "execution_count": 48,
   "id": "2eb1a4a0",
   "metadata": {
    "scrolled": true
   },
   "outputs": [
    {
     "data": {
      "text/plain": [
       "0"
      ]
     },
     "execution_count": 48,
     "metadata": {},
     "output_type": "execute_result"
    }
   ],
   "source": [
    "data_full[\"gender\"].isna().sum()"
   ]
  },
  {
   "cell_type": "code",
   "execution_count": 49,
   "id": "e7f93749",
   "metadata": {},
   "outputs": [],
   "source": [
    "data_full[\"gender\"] = data_full[\"gender\"].apply(\n",
    "    lambda x: 1 if x == 'M' else 0 if x == 'F' else x\n",
    ")\n"
   ]
  },
  {
   "cell_type": "code",
   "execution_count": 50,
   "id": "f0902c9b",
   "metadata": {},
   "outputs": [
    {
     "data": {
      "text/plain": [
       "1    1021032\n",
       "0     978968\n",
       "Name: gender, dtype: int64"
      ]
     },
     "execution_count": 50,
     "metadata": {},
     "output_type": "execute_result"
    }
   ],
   "source": [
    "#on a bien réussi à prédire l'ensemble des NaN maintenant on va évaluer la qualité globale des prédictions faite grace à une validation\n",
    "data_full[\"gender\"].value_counts()"
   ]
  },
  {
   "cell_type": "code",
   "execution_count": 51,
   "id": "f2eafefe",
   "metadata": {},
   "outputs": [
    {
     "data": {
      "image/png": "[encoded data removed]",
      "text/plain": [
       "<Figure size 640x480 with 1 Axes>"
      ]
     },
     "metadata": {},
     "output_type": "display_data"
    }
   ],
   "source": [
    "import matplotlib.pyplot as plt\n",
    "\n",
    "# Comparaison de la répartition\n",
    "original = data[data[\"gender\"].notna()][\"gender\"]\n",
    "predicted = data_full[\"gender\"] \n",
    "\n",
    "plt.hist(original, bins=2, alpha=0.5, label=\"Connues\")\n",
    "plt.hist(predicted, bins=2, alpha=0.5, label=\"Prédites\")\n",
    "plt.legend()\n",
    "plt.title(\"Distribution de 'gender' : connues vs prédites\")\n",
    "plt.show()\n"
   ]
  },
  {
   "cell_type": "code",
   "execution_count": 52,
   "id": "4288ccd0",
   "metadata": {},
   "outputs": [],
   "source": [
    "original=original.apply(lambda x: 1 if x=='M' else 0 if x=='F' else x)"
   ]
  },
  {
   "cell_type": "code",
   "execution_count": 53,
   "id": "652e0d16",
   "metadata": {},
   "outputs": [],
   "source": [
    "n=len(original)\n",
    "m=len(predicted)"
   ]
  },
  {
   "cell_type": "code",
   "execution_count": 54,
   "id": "c00c74a9",
   "metadata": {},
   "outputs": [
    {
     "name": "stdout",
     "output_type": "stream",
     "text": [
      "Accuracy : 0.50\n"
     ]
    }
   ],
   "source": [
    "accuracy_validation = accuracy_score(original, predicted.sample(n))\n",
    "print(f\"Accuracy : {accuracy_validation:.2f}\")\n",
    "\n",
    "#notre imputer est aussi bon que le hasard pour prédire le sexe"
   ]
  },
  {
   "cell_type": "code",
   "execution_count": 55,
   "id": "c8f9530c",
   "metadata": {},
   "outputs": [],
   "source": [
    "#on va réaliser la même opération pour entrainer puis prédire les valeurs manquantes de yob"
   ]
  },
  {
   "cell_type": "code",
   "execution_count": 98,
   "id": "6c8cc93d",
   "metadata": {},
   "outputs": [],
   "source": [
    "data_known_yob=data_known.copy()"
   ]
  },
  {
   "cell_type": "code",
   "execution_count": 99,
   "id": "464fdb72",
   "metadata": {},
   "outputs": [
    {
     "name": "stdout",
     "output_type": "stream",
     "text": [
      "<class 'pandas.core.frame.DataFrame'>\n",
      "Int64Index: 790763 entries, 0 to 1999996\n",
      "Data columns (total 5 columns):\n",
      " #   Column     Non-Null Count   Dtype  \n",
      "---  ------     --------------   -----  \n",
      " 0   yob        790763 non-null  int64  \n",
      " 1   domain     790763 non-null  object \n",
      " 2   firstname  790763 non-null  object \n",
      " 3   zipcode    790763 non-null  float64\n",
      " 4   gender     790763 non-null  object \n",
      "dtypes: float64(1), int64(1), object(3)\n",
      "memory usage: 36.2+ MB\n"
     ]
    }
   ],
   "source": [
    "data_known_yob.info()"
   ]
  },
  {
   "cell_type": "code",
   "execution_count": 100,
   "id": "ac270786",
   "metadata": {},
   "outputs": [],
   "source": [
    "corr_values_2=data_known_yob.corr()"
   ]
  },
  {
   "cell_type": "code",
   "execution_count": 101,
   "id": "f5409917",
   "metadata": {},
   "outputs": [
    {
     "name": "stdout",
     "output_type": "stream",
     "text": [
      "p-value : 0.0\n"
     ]
    }
   ],
   "source": [
    "# on vérifie la corrélation de firstname avec gender\n",
    "\n",
    "from scipy.stats import chi2_contingency\n",
    "\n",
    "contingency = pd.crosstab(data_known[\"firstname\"], data_known[\"yob\"])\n",
    "chi2, p, dof, expected = chi2_contingency(contingency)\n",
    "print(f\"p-value : {p}\")\n",
    "#p<0.05 donc pas d'indépendance entre les deux colonnes"
   ]
  },
  {
   "cell_type": "code",
   "execution_count": 102,
   "id": "4fa2fb39",
   "metadata": {},
   "outputs": [
    {
     "name": "stdout",
     "output_type": "stream",
     "text": [
      "p-value : 0.0\n"
     ]
    }
   ],
   "source": [
    "# on vérifie la corrélation de domain avec yob\n",
    "\n",
    "from scipy.stats import chi2_contingency\n",
    "\n",
    "contingency = pd.crosstab(data_known[\"domain\"], data_known[\"yob\"])\n",
    "chi2, p, dof, expected = chi2_contingency(contingency)\n",
    "print(f\"p-value : {p}\")\n",
    "#p<0.05 donc pas d'indépendance entre les deux colonnes\n",
    "#contrairement à avec gender le nom de domain n'est pas indépendant de l'année de naissance"
   ]
  },
  {
   "cell_type": "code",
   "execution_count": 103,
   "id": "57dbdcb7",
   "metadata": {},
   "outputs": [],
   "source": [
    "#on va encoder les variables avant de passer à l'entrainement du modèle"
   ]
  },
  {
   "cell_type": "code",
   "execution_count": 104,
   "id": "902e752e",
   "metadata": {},
   "outputs": [],
   "source": [
    "data_known_yob[\"gender\"]=data_known_yob[\"gender\"].map({\"M\": 1, \"F\": 0})"
   ]
  },
  {
   "cell_type": "code",
   "execution_count": 105,
   "id": "58a2c3a1",
   "metadata": {},
   "outputs": [],
   "source": [
    "target_encoding2=data_known_yob.groupby(\"firstname\")[\"yob\"].mean()\n",
    "data_known_yob[\"firstname_encoded\"]=data_known_yob[\"firstname\"].map(target_encoding2)"
   ]
  },
  {
   "cell_type": "code",
   "execution_count": 106,
   "id": "553c2626",
   "metadata": {},
   "outputs": [],
   "source": [
    "target_encoding3=data_known_yob.groupby(\"domain\")[\"yob\"].mean()\n",
    "data_known_yob[\"domain_encoded\"]=data_known_yob[\"domain\"].map(target_encoding3)"
   ]
  },
  {
   "cell_type": "code",
   "execution_count": 107,
   "id": "27150401",
   "metadata": {
    "scrolled": true
   },
   "outputs": [],
   "source": [
    "data_known_yob=data_known_yob.drop(columns=[\"firstname\",\"domain\",\"gender\"],axis=1)"
   ]
  },
  {
   "cell_type": "code",
   "execution_count": 108,
   "id": "6d02e7f8",
   "metadata": {},
   "outputs": [],
   "source": [
    "y2=data_known_yob[\"yob\"]\n",
    "X2=data_known_yob.drop(columns=\"yob\",axis=1)"
   ]
  },
  {
   "cell_type": "code",
   "execution_count": 109,
   "id": "41c063b5",
   "metadata": {},
   "outputs": [],
   "source": [
    "from sklearn.model_selection import train_test_split\n",
    "\n",
    "X_train_yob, X_test_yob, y_train_yob, y_test_yob=train_test_split(X2, y2, test_size=0.2, random_state=42)"
   ]
  },
  {
   "cell_type": "code",
   "execution_count": 113,
   "id": "23e473c0",
   "metadata": {},
   "outputs": [
    {
     "name": "stdout",
     "output_type": "stream",
     "text": [
      "<class 'pandas.core.frame.DataFrame'>\n",
      "Int64Index: 632610 entries, 967405 to 307406\n",
      "Data columns (total 3 columns):\n",
      " #   Column             Non-Null Count   Dtype  \n",
      "---  ------             --------------   -----  \n",
      " 0   zipcode            632610 non-null  float64\n",
      " 1   firstname_encoded  632610 non-null  float64\n",
      " 2   domain_encoded     632610 non-null  float64\n",
      "dtypes: float64(3)\n",
      "memory usage: 19.3 MB\n"
     ]
    }
   ],
   "source": [
    "X_train_yob.info()"
   ]
  },
  {
   "cell_type": "code",
   "execution_count": 110,
   "id": "6e23d1a6",
   "metadata": {
    "scrolled": true
   },
   "outputs": [
    {
     "name": "stdout",
     "output_type": "stream",
     "text": [
      "[LightGBM] [Info] Auto-choosing col-wise multi-threading, the overhead of testing was 0.012019 seconds.\n",
      "You can set `force_col_wise=true` to remove the overhead.\n",
      "[LightGBM] [Info] Total Bins 554\n",
      "[LightGBM] [Info] Number of data points in the train set: 632610, number of used features: 3\n",
      "[LightGBM] [Info] Start training from score -4.430817\n",
      "[LightGBM] [Info] Start training from score -4.430817\n",
      "[LightGBM] [Info] Start training from score -4.430817\n",
      "[LightGBM] [Info] Start training from score -4.430817\n",
      "[LightGBM] [Info] Start training from score -4.430817\n",
      "[LightGBM] [Info] Start training from score -4.430817\n",
      "[LightGBM] [Info] Start training from score -4.430817\n",
      "[LightGBM] [Info] Start training from score -4.430817\n",
      "[LightGBM] [Info] Start training from score -4.430817\n",
      "[LightGBM] [Info] Start training from score -4.430817\n",
      "[LightGBM] [Info] Start training from score -4.430817\n",
      "[LightGBM] [Info] Start training from score -4.430817\n",
      "[LightGBM] [Info] Start training from score -4.430817\n",
      "[LightGBM] [Info] Start training from score -4.430817\n",
      "[LightGBM] [Info] Start training from score -4.430817\n",
      "[LightGBM] [Info] Start training from score -4.430817\n",
      "[LightGBM] [Info] Start training from score -4.430817\n",
      "[LightGBM] [Info] Start training from score -4.430817\n",
      "[LightGBM] [Info] Start training from score -4.430817\n",
      "[LightGBM] [Info] Start training from score -4.430817\n",
      "[LightGBM] [Info] Start training from score -4.430817\n",
      "[LightGBM] [Info] Start training from score -4.430817\n",
      "[LightGBM] [Info] Start training from score -4.430817\n",
      "[LightGBM] [Info] Start training from score -4.430817\n",
      "[LightGBM] [Info] Start training from score -4.430817\n",
      "[LightGBM] [Info] Start training from score -4.430817\n",
      "[LightGBM] [Info] Start training from score -4.430817\n",
      "[LightGBM] [Info] Start training from score -4.430817\n",
      "[LightGBM] [Info] Start training from score -4.430817\n",
      "[LightGBM] [Info] Start training from score -4.430817\n",
      "[LightGBM] [Info] Start training from score -4.430817\n",
      "[LightGBM] [Info] Start training from score -4.430817\n",
      "[LightGBM] [Info] Start training from score -4.430817\n",
      "[LightGBM] [Info] Start training from score -4.430817\n",
      "[LightGBM] [Info] Start training from score -4.430817\n",
      "[LightGBM] [Info] Start training from score -4.430817\n",
      "[LightGBM] [Info] Start training from score -4.430817\n",
      "[LightGBM] [Info] Start training from score -4.430817\n",
      "[LightGBM] [Info] Start training from score -4.430817\n",
      "[LightGBM] [Info] Start training from score -4.430817\n",
      "[LightGBM] [Info] Start training from score -4.430817\n",
      "[LightGBM] [Info] Start training from score -4.430817\n",
      "[LightGBM] [Info] Start training from score -4.430817\n",
      "[LightGBM] [Info] Start training from score -4.430817\n",
      "[LightGBM] [Info] Start training from score -4.430817\n",
      "[LightGBM] [Info] Start training from score -4.430817\n",
      "[LightGBM] [Info] Start training from score -4.430817\n",
      "[LightGBM] [Info] Start training from score -4.430817\n",
      "[LightGBM] [Info] Start training from score -4.430817\n",
      "[LightGBM] [Info] Start training from score -4.430817\n",
      "[LightGBM] [Info] Start training from score -4.430817\n",
      "[LightGBM] [Info] Start training from score -4.430817\n",
      "[LightGBM] [Info] Start training from score -4.430817\n",
      "[LightGBM] [Info] Start training from score -4.430817\n",
      "[LightGBM] [Info] Start training from score -4.430817\n",
      "[LightGBM] [Info] Start training from score -4.430817\n",
      "[LightGBM] [Info] Start training from score -4.430817\n",
      "[LightGBM] [Info] Start training from score -4.430817\n",
      "[LightGBM] [Info] Start training from score -4.430817\n",
      "[LightGBM] [Info] Start training from score -4.430817\n",
      "[LightGBM] [Info] Start training from score -4.430817\n",
      "[LightGBM] [Info] Start training from score -4.430817\n",
      "[LightGBM] [Info] Start training from score -4.430817\n",
      "[LightGBM] [Info] Start training from score -4.430817\n",
      "[LightGBM] [Info] Start training from score -4.430817\n",
      "[LightGBM] [Info] Start training from score -4.430817\n",
      "[LightGBM] [Info] Start training from score -4.430817\n",
      "[LightGBM] [Info] Start training from score -4.430817\n",
      "[LightGBM] [Info] Start training from score -4.430817\n",
      "[LightGBM] [Info] Start training from score -4.430817\n",
      "[LightGBM] [Info] Start training from score -4.430817\n",
      "[LightGBM] [Info] Start training from score -4.430817\n",
      "[LightGBM] [Info] Start training from score -4.430817\n",
      "[LightGBM] [Info] Start training from score -4.430817\n",
      "[LightGBM] [Info] Start training from score -4.430817\n",
      "[LightGBM] [Info] Start training from score -4.430817\n",
      "[LightGBM] [Info] Start training from score -4.430817\n",
      "[LightGBM] [Info] Start training from score -4.430817\n",
      "[LightGBM] [Info] Start training from score -4.430817\n",
      "[LightGBM] [Info] Start training from score -4.430817\n",
      "[LightGBM] [Info] Start training from score -4.430817\n",
      "[LightGBM] [Info] Start training from score -4.430817\n",
      "[LightGBM] [Info] Start training from score -4.430817\n",
      "[LightGBM] [Info] Start training from score -4.430817\n"
     ]
    },
    {
     "data": {
      "text/html": [
       "<style>#sk-container-id-5 {\n",
       "  /* Definition of color scheme common for light and dark mode */\n",
       "  --sklearn-color-text: black;\n",
       "  --sklearn-color-line: gray;\n",
       "  /* Definition of color scheme for unfitted estimators */\n",
       "  --sklearn-color-unfitted-level-0: #fff5e6;\n",
       "  --sklearn-color-unfitted-level-1: #f6e4d2;\n",
       "  --sklearn-color-unfitted-level-2: #ffe0b3;\n",
       "  --sklearn-color-unfitted-level-3: chocolate;\n",
       "  /* Definition of color scheme for fitted estimators */\n",
       "  --sklearn-color-fitted-level-0: #f0f8ff;\n",
       "  --sklearn-color-fitted-level-1: #d4ebff;\n",
       "  --sklearn-color-fitted-level-2: #b3dbfd;\n",
       "  --sklearn-color-fitted-level-3: cornflowerblue;\n",
       "\n",
       "  /* Specific color for light theme */\n",
       "  --sklearn-color-text-on-default-background: var(--sg-text-color, var(--theme-code-foreground, var(--jp-content-font-color1, black)));\n",
       "  --sklearn-color-background: var(--sg-background-color, var(--theme-background, var(--jp-layout-color0, white)));\n",
       "  --sklearn-color-border-box: var(--sg-text-color, var(--theme-code-foreground, var(--jp-content-font-color1, black)));\n",
       "  --sklearn-color-icon: #696969;\n",
       "\n",
       "  @media (prefers-color-scheme: dark) {\n",
       "    /* Redefinition of color scheme for dark theme */\n",
       "    --sklearn-color-text-on-default-background: var(--sg-text-color, var(--theme-code-foreground, var(--jp-content-font-color1, white)));\n",
       "    --sklearn-color-background: var(--sg-background-color, var(--theme-background, var(--jp-layout-color0, #111)));\n",
       "    --sklearn-color-border-box: var(--sg-text-color, var(--theme-code-foreground, var(--jp-content-font-color1, white)));\n",
       "    --sklearn-color-icon: #878787;\n",
       "  }\n",
       "}\n",
       "\n",
       "#sk-container-id-5 {\n",
       "  color: var(--sklearn-color-text);\n",
       "}\n",
       "\n",
       "#sk-container-id-5 pre {\n",
       "  padding: 0;\n",
       "}\n",
       "\n",
       "#sk-container-id-5 input.sk-hidden--visually {\n",
       "  border: 0;\n",
       "  clip: rect(1px 1px 1px 1px);\n",
       "  clip: rect(1px, 1px, 1px, 1px);\n",
       "  height: 1px;\n",
       "  margin: -1px;\n",
       "  overflow: hidden;\n",
       "  padding: 0;\n",
       "  position: absolute;\n",
       "  width: 1px;\n",
       "}\n",
       "\n",
       "#sk-container-id-5 div.sk-dashed-wrapped {\n",
       "  border: 1px dashed var(--sklearn-color-line);\n",
       "  margin: 0 0.4em 0.5em 0.4em;\n",
       "  box-sizing: border-box;\n",
       "  padding-bottom: 0.4em;\n",
       "  background-color: var(--sklearn-color-background);\n",
       "}\n",
       "\n",
       "#sk-container-id-5 div.sk-container {\n",
       "  /* jupyter's `normalize.less` sets `[hidden] { display: none; }`\n",
       "     but bootstrap.min.css set `[hidden] { display: none !important; }`\n",
       "     so we also need the `!important` here to be able to override the\n",
       "     default hidden behavior on the sphinx rendered scikit-learn.org.\n",
       "     See: https://github.com/scikit-learn/scikit-learn/issues/21755 */\n",
       "  display: inline-block !important;\n",
       "  position: relative;\n",
       "}\n",
       "\n",
       "#sk-container-id-5 div.sk-text-repr-fallback {\n",
       "  display: none;\n",
       "}\n",
       "\n",
       "div.sk-parallel-item,\n",
       "div.sk-serial,\n",
       "div.sk-item {\n",
       "  /* draw centered vertical line to link estimators */\n",
       "  background-image: linear-gradient(var(--sklearn-color-text-on-default-background), var(--sklearn-color-text-on-default-background));\n",
       "  background-size: 2px 100%;\n",
       "  background-repeat: no-repeat;\n",
       "  background-position: center center;\n",
       "}\n",
       "\n",
       "/* Parallel-specific style estimator block */\n",
       "\n",
       "#sk-container-id-5 div.sk-parallel-item::after {\n",
       "  content: \"\";\n",
       "  width: 100%;\n",
       "  border-bottom: 2px solid var(--sklearn-color-text-on-default-background);\n",
       "  flex-grow: 1;\n",
       "}\n",
       "\n",
       "#sk-container-id-5 div.sk-parallel {\n",
       "  display: flex;\n",
       "  align-items: stretch;\n",
       "  justify-content: center;\n",
       "  background-color: var(--sklearn-color-background);\n",
       "  position: relative;\n",
       "}\n",
       "\n",
       "#sk-container-id-5 div.sk-parallel-item {\n",
       "  display: flex;\n",
       "  flex-direction: column;\n",
       "}\n",
       "\n",
       "#sk-container-id-5 div.sk-parallel-item:first-child::after {\n",
       "  align-self: flex-end;\n",
       "  width: 50%;\n",
       "}\n",
       "\n",
       "#sk-container-id-5 div.sk-parallel-item:last-child::after {\n",
       "  align-self: flex-start;\n",
       "  width: 50%;\n",
       "}\n",
       "\n",
       "#sk-container-id-5 div.sk-parallel-item:only-child::after {\n",
       "  width: 0;\n",
       "}\n",
       "\n",
       "/* Serial-specific style estimator block */\n",
       "\n",
       "#sk-container-id-5 div.sk-serial {\n",
       "  display: flex;\n",
       "  flex-direction: column;\n",
       "  align-items: center;\n",
       "  background-color: var(--sklearn-color-background);\n",
       "  padding-right: 1em;\n",
       "  padding-left: 1em;\n",
       "}\n",
       "\n",
       "\n",
       "/* Toggleable style: style used for estimator/Pipeline/ColumnTransformer box that is\n",
       "clickable and can be expanded/collapsed.\n",
       "- Pipeline and ColumnTransformer use this feature and define the default style\n",
       "- Estimators will overwrite some part of the style using the `sk-estimator` class\n",
       "*/\n",
       "\n",
       "/* Pipeline and ColumnTransformer style (default) */\n",
       "\n",
       "#sk-container-id-5 div.sk-toggleable {\n",
       "  /* Default theme specific background. It is overwritten whether we have a\n",
       "  specific estimator or a Pipeline/ColumnTransformer */\n",
       "  background-color: var(--sklearn-color-background);\n",
       "}\n",
       "\n",
       "/* Toggleable label */\n",
       "#sk-container-id-5 label.sk-toggleable__label {\n",
       "  cursor: pointer;\n",
       "  display: block;\n",
       "  width: 100%;\n",
       "  margin-bottom: 0;\n",
       "  padding: 0.5em;\n",
       "  box-sizing: border-box;\n",
       "  text-align: center;\n",
       "}\n",
       "\n",
       "#sk-container-id-5 label.sk-toggleable__label-arrow:before {\n",
       "  /* Arrow on the left of the label */\n",
       "  content: \"▸\";\n",
       "  float: left;\n",
       "  margin-right: 0.25em;\n",
       "  color: var(--sklearn-color-icon);\n",
       "}\n",
       "\n",
       "#sk-container-id-5 label.sk-toggleable__label-arrow:hover:before {\n",
       "  color: var(--sklearn-color-text);\n",
       "}\n",
       "\n",
       "/* Toggleable content - dropdown */\n",
       "\n",
       "#sk-container-id-5 div.sk-toggleable__content {\n",
       "  max-height: 0;\n",
       "  max-width: 0;\n",
       "  overflow: hidden;\n",
       "  text-align: left;\n",
       "  /* unfitted */\n",
       "  background-color: var(--sklearn-color-unfitted-level-0);\n",
       "}\n",
       "\n",
       "#sk-container-id-5 div.sk-toggleable__content.fitted {\n",
       "  /* fitted */\n",
       "  background-color: var(--sklearn-color-fitted-level-0);\n",
       "}\n",
       "\n",
       "#sk-container-id-5 div.sk-toggleable__content pre {\n",
       "  margin: 0.2em;\n",
       "  border-radius: 0.25em;\n",
       "  color: var(--sklearn-color-text);\n",
       "  /* unfitted */\n",
       "  background-color: var(--sklearn-color-unfitted-level-0);\n",
       "}\n",
       "\n",
       "#sk-container-id-5 div.sk-toggleable__content.fitted pre {\n",
       "  /* unfitted */\n",
       "  background-color: var(--sklearn-color-fitted-level-0);\n",
       "}\n",
       "\n",
       "#sk-container-id-5 input.sk-toggleable__control:checked~div.sk-toggleable__content {\n",
       "  /* Expand drop-down */\n",
       "  max-height: 200px;\n",
       "  max-width: 100%;\n",
       "  overflow: auto;\n",
       "}\n",
       "\n",
       "#sk-container-id-5 input.sk-toggleable__control:checked~label.sk-toggleable__label-arrow:before {\n",
       "  content: \"▾\";\n",
       "}\n",
       "\n",
       "/* Pipeline/ColumnTransformer-specific style */\n",
       "\n",
       "#sk-container-id-5 div.sk-label input.sk-toggleable__control:checked~label.sk-toggleable__label {\n",
       "  color: var(--sklearn-color-text);\n",
       "  background-color: var(--sklearn-color-unfitted-level-2);\n",
       "}\n",
       "\n",
       "#sk-container-id-5 div.sk-label.fitted input.sk-toggleable__control:checked~label.sk-toggleable__label {\n",
       "  background-color: var(--sklearn-color-fitted-level-2);\n",
       "}\n",
       "\n",
       "/* Estimator-specific style */\n",
       "\n",
       "/* Colorize estimator box */\n",
       "#sk-container-id-5 div.sk-estimator input.sk-toggleable__control:checked~label.sk-toggleable__label {\n",
       "  /* unfitted */\n",
       "  background-color: var(--sklearn-color-unfitted-level-2);\n",
       "}\n",
       "\n",
       "#sk-container-id-5 div.sk-estimator.fitted input.sk-toggleable__control:checked~label.sk-toggleable__label {\n",
       "  /* fitted */\n",
       "  background-color: var(--sklearn-color-fitted-level-2);\n",
       "}\n",
       "\n",
       "#sk-container-id-5 div.sk-label label.sk-toggleable__label,\n",
       "#sk-container-id-5 div.sk-label label {\n",
       "  /* The background is the default theme color */\n",
       "  color: var(--sklearn-color-text-on-default-background);\n",
       "}\n",
       "\n",
       "/* On hover, darken the color of the background */\n",
       "#sk-container-id-5 div.sk-label:hover label.sk-toggleable__label {\n",
       "  color: var(--sklearn-color-text);\n",
       "  background-color: var(--sklearn-color-unfitted-level-2);\n",
       "}\n",
       "\n",
       "/* Label box, darken color on hover, fitted */\n",
       "#sk-container-id-5 div.sk-label.fitted:hover label.sk-toggleable__label.fitted {\n",
       "  color: var(--sklearn-color-text);\n",
       "  background-color: var(--sklearn-color-fitted-level-2);\n",
       "}\n",
       "\n",
       "/* Estimator label */\n",
       "\n",
       "#sk-container-id-5 div.sk-label label {\n",
       "  font-family: monospace;\n",
       "  font-weight: bold;\n",
       "  display: inline-block;\n",
       "  line-height: 1.2em;\n",
       "}\n",
       "\n",
       "#sk-container-id-5 div.sk-label-container {\n",
       "  text-align: center;\n",
       "}\n",
       "\n",
       "/* Estimator-specific */\n",
       "#sk-container-id-5 div.sk-estimator {\n",
       "  font-family: monospace;\n",
       "  border: 1px dotted var(--sklearn-color-border-box);\n",
       "  border-radius: 0.25em;\n",
       "  box-sizing: border-box;\n",
       "  margin-bottom: 0.5em;\n",
       "  /* unfitted */\n",
       "  background-color: var(--sklearn-color-unfitted-level-0);\n",
       "}\n",
       "\n",
       "#sk-container-id-5 div.sk-estimator.fitted {\n",
       "  /* fitted */\n",
       "  background-color: var(--sklearn-color-fitted-level-0);\n",
       "}\n",
       "\n",
       "/* on hover */\n",
       "#sk-container-id-5 div.sk-estimator:hover {\n",
       "  /* unfitted */\n",
       "  background-color: var(--sklearn-color-unfitted-level-2);\n",
       "}\n",
       "\n",
       "#sk-container-id-5 div.sk-estimator.fitted:hover {\n",
       "  /* fitted */\n",
       "  background-color: var(--sklearn-color-fitted-level-2);\n",
       "}\n",
       "\n",
       "/* Specification for estimator info (e.g. \"i\" and \"?\") */\n",
       "\n",
       "/* Common style for \"i\" and \"?\" */\n",
       "\n",
       ".sk-estimator-doc-link,\n",
       "a:link.sk-estimator-doc-link,\n",
       "a:visited.sk-estimator-doc-link {\n",
       "  float: right;\n",
       "  font-size: smaller;\n",
       "  line-height: 1em;\n",
       "  font-family: monospace;\n",
       "  background-color: var(--sklearn-color-background);\n",
       "  border-radius: 1em;\n",
       "  height: 1em;\n",
       "  width: 1em;\n",
       "  text-decoration: none !important;\n",
       "  margin-left: 1ex;\n",
       "  /* unfitted */\n",
       "  border: var(--sklearn-color-unfitted-level-1) 1pt solid;\n",
       "  color: var(--sklearn-color-unfitted-level-1);\n",
       "}\n",
       "\n",
       ".sk-estimator-doc-link.fitted,\n",
       "a:link.sk-estimator-doc-link.fitted,\n",
       "a:visited.sk-estimator-doc-link.fitted {\n",
       "  /* fitted */\n",
       "  border: var(--sklearn-color-fitted-level-1) 1pt solid;\n",
       "  color: var(--sklearn-color-fitted-level-1);\n",
       "}\n",
       "\n",
       "/* On hover */\n",
       "div.sk-estimator:hover .sk-estimator-doc-link:hover,\n",
       ".sk-estimator-doc-link:hover,\n",
       "div.sk-label-container:hover .sk-estimator-doc-link:hover,\n",
       ".sk-estimator-doc-link:hover {\n",
       "  /* unfitted */\n",
       "  background-color: var(--sklearn-color-unfitted-level-3);\n",
       "  color: var(--sklearn-color-background);\n",
       "  text-decoration: none;\n",
       "}\n",
       "\n",
       "div.sk-estimator.fitted:hover .sk-estimator-doc-link.fitted:hover,\n",
       ".sk-estimator-doc-link.fitted:hover,\n",
       "div.sk-label-container:hover .sk-estimator-doc-link.fitted:hover,\n",
       ".sk-estimator-doc-link.fitted:hover {\n",
       "  /* fitted */\n",
       "  background-color: var(--sklearn-color-fitted-level-3);\n",
       "  color: var(--sklearn-color-background);\n",
       "  text-decoration: none;\n",
       "}\n",
       "\n",
       "/* Span, style for the box shown on hovering the info icon */\n",
       ".sk-estimator-doc-link span {\n",
       "  display: none;\n",
       "  z-index: 9999;\n",
       "  position: relative;\n",
       "  font-weight: normal;\n",
       "  right: .2ex;\n",
       "  padding: .5ex;\n",
       "  margin: .5ex;\n",
       "  width: min-content;\n",
       "  min-width: 20ex;\n",
       "  max-width: 50ex;\n",
       "  color: var(--sklearn-color-text);\n",
       "  box-shadow: 2pt 2pt 4pt #999;\n",
       "  /* unfitted */\n",
       "  background: var(--sklearn-color-unfitted-level-0);\n",
       "  border: .5pt solid var(--sklearn-color-unfitted-level-3);\n",
       "}\n",
       "\n",
       ".sk-estimator-doc-link.fitted span {\n",
       "  /* fitted */\n",
       "  background: var(--sklearn-color-fitted-level-0);\n",
       "  border: var(--sklearn-color-fitted-level-3);\n",
       "}\n",
       "\n",
       ".sk-estimator-doc-link:hover span {\n",
       "  display: block;\n",
       "}\n",
       "\n",
       "/* \"?\"-specific style due to the `<a>` HTML tag */\n",
       "\n",
       "#sk-container-id-5 a.estimator_doc_link {\n",
       "  float: right;\n",
       "  font-size: 1rem;\n",
       "  line-height: 1em;\n",
       "  font-family: monospace;\n",
       "  background-color: var(--sklearn-color-background);\n",
       "  border-radius: 1rem;\n",
       "  height: 1rem;\n",
       "  width: 1rem;\n",
       "  text-decoration: none;\n",
       "  /* unfitted */\n",
       "  color: var(--sklearn-color-unfitted-level-1);\n",
       "  border: var(--sklearn-color-unfitted-level-1) 1pt solid;\n",
       "}\n",
       "\n",
       "#sk-container-id-5 a.estimator_doc_link.fitted {\n",
       "  /* fitted */\n",
       "  border: var(--sklearn-color-fitted-level-1) 1pt solid;\n",
       "  color: var(--sklearn-color-fitted-level-1);\n",
       "}\n",
       "\n",
       "/* On hover */\n",
       "#sk-container-id-5 a.estimator_doc_link:hover {\n",
       "  /* unfitted */\n",
       "  background-color: var(--sklearn-color-unfitted-level-3);\n",
       "  color: var(--sklearn-color-background);\n",
       "  text-decoration: none;\n",
       "}\n",
       "\n",
       "#sk-container-id-5 a.estimator_doc_link.fitted:hover {\n",
       "  /* fitted */\n",
       "  background-color: var(--sklearn-color-fitted-level-3);\n",
       "}\n",
       "</style><div id=\"sk-container-id-5\" class=\"sk-top-container\"><div class=\"sk-text-repr-fallback\"><pre>LGBMClassifier(class_weight=&#x27;balanced&#x27;)</pre><b>In a Jupyter environment, please rerun this cell to show the HTML representation or trust the notebook. <br />On GitHub, the HTML representation is unable to render, please try loading this page with nbviewer.org.</b></div><div class=\"sk-container\" hidden><div class=\"sk-item\"><div class=\"sk-estimator fitted sk-toggleable\"><input class=\"sk-toggleable__control sk-hidden--visually\" id=\"sk-estimator-id-5\" type=\"checkbox\" checked><label for=\"sk-estimator-id-5\" class=\"sk-toggleable__label fitted sk-toggleable__label-arrow fitted\">&nbsp;LGBMClassifier<span class=\"sk-estimator-doc-link fitted\">i<span>Fitted</span></span></label><div class=\"sk-toggleable__content fitted\"><pre>LGBMClassifier(class_weight=&#x27;balanced&#x27;)</pre></div> </div></div></div></div>"
      ],
      "text/plain": [
       "LGBMClassifier(class_weight='balanced')"
      ]
     },
     "execution_count": 110,
     "metadata": {},
     "output_type": "execute_result"
    }
   ],
   "source": [
    "import lightgbm as lgb\n",
    "\n",
    "model2 = lgb.LGBMClassifier(class_weight='balanced')  # Ajoute ça si classes déséquilibrées\n",
    "model2.fit(X_train_yob, y_train_yob)\n",
    "\n"
   ]
  },
  {
   "cell_type": "code",
   "execution_count": 111,
   "id": "b63c1c51",
   "metadata": {},
   "outputs": [
    {
     "name": "stdout",
     "output_type": "stream",
     "text": [
      "Accuracy: 0.03784942429166693\n"
     ]
    }
   ],
   "source": [
    "y_pred_yob=model2.predict(X_test_yob)\n",
    "\n",
    "from sklearn.metrics import accuracy_score\n",
    "\n",
    "accuracy2=accuracy_score(y_test_yob,y_pred_yob)\n",
    "print(\"Accuracy:\", accuracy2)"
   ]
  },
  {
   "cell_type": "code",
   "execution_count": 84,
   "id": "c45dc670",
   "metadata": {},
   "outputs": [],
   "source": [
    "#prediction des valeurs NaN \n",
    "\n",
    "X_missing_yob=data_missing.copy()"
   ]
  },
  {
   "cell_type": "code",
   "execution_count": 85,
   "id": "8e962b56",
   "metadata": {},
   "outputs": [
    {
     "name": "stdout",
     "output_type": "stream",
     "text": [
      "<class 'pandas.core.frame.DataFrame'>\n",
      "Int64Index: 1203281 entries, 2 to 1999999\n",
      "Data columns (total 5 columns):\n",
      " #   Column     Non-Null Count    Dtype  \n",
      "---  ------     --------------    -----  \n",
      " 0   yob        1203281 non-null  int64  \n",
      " 1   domain     1203281 non-null  object \n",
      " 2   firstname  1203281 non-null  object \n",
      " 3   zipcode    1192043 non-null  float64\n",
      " 4   gender     398327 non-null   object \n",
      "dtypes: float64(1), int64(1), object(3)\n",
      "memory usage: 87.3+ MB\n"
     ]
    }
   ],
   "source": [
    "X_missing_yob.info()"
   ]
  },
  {
   "cell_type": "code",
   "execution_count": 88,
   "id": "66d3012d",
   "metadata": {},
   "outputs": [],
   "source": [
    "X_missing_yob=X_missing_yob[X_missing_yob[\"yob\"] == -1]"
   ]
  },
  {
   "cell_type": "code",
   "execution_count": 89,
   "id": "f1a905fe",
   "metadata": {},
   "outputs": [
    {
     "data": {
      "text/html": [
       "<div>\n",
       "<style scoped>\n",
       "    .dataframe tbody tr th:only-of-type {\n",
       "        vertical-align: middle;\n",
       "    }\n",
       "\n",
       "    .dataframe tbody tr th {\n",
       "        vertical-align: top;\n",
       "    }\n",
       "\n",
       "    .dataframe thead th {\n",
       "        text-align: right;\n",
       "    }\n",
       "</style>\n",
       "<table border=\"1\" class=\"dataframe\">\n",
       "  <thead>\n",
       "    <tr style=\"text-align: right;\">\n",
       "      <th></th>\n",
       "      <th>yob</th>\n",
       "      <th>domain</th>\n",
       "      <th>firstname</th>\n",
       "      <th>zipcode</th>\n",
       "      <th>gender</th>\n",
       "    </tr>\n",
       "  </thead>\n",
       "  <tbody>\n",
       "    <tr>\n",
       "      <th>3</th>\n",
       "      <td>-1</td>\n",
       "      <td>@hotmail.com</td>\n",
       "      <td>d3ca5dde60f88db</td>\n",
       "      <td>94100.0</td>\n",
       "      <td>M</td>\n",
       "    </tr>\n",
       "    <tr>\n",
       "      <th>4</th>\n",
       "      <td>-1</td>\n",
       "      <td>@gmail.com</td>\n",
       "      <td>bdaae16837dd576</td>\n",
       "      <td>78100.0</td>\n",
       "      <td>NaN</td>\n",
       "    </tr>\n",
       "    <tr>\n",
       "      <th>8</th>\n",
       "      <td>-1</td>\n",
       "      <td>@live.fr</td>\n",
       "      <td>a5410ee37744c57</td>\n",
       "      <td>5100.0</td>\n",
       "      <td>M</td>\n",
       "    </tr>\n",
       "    <tr>\n",
       "      <th>9</th>\n",
       "      <td>-1</td>\n",
       "      <td>@wanadoo.fr</td>\n",
       "      <td>60784186ea5b29f</td>\n",
       "      <td>68300.0</td>\n",
       "      <td>NaN</td>\n",
       "    </tr>\n",
       "    <tr>\n",
       "      <th>13</th>\n",
       "      <td>-1</td>\n",
       "      <td>@free.fr</td>\n",
       "      <td>d780182f77b1214</td>\n",
       "      <td>24100.0</td>\n",
       "      <td>M</td>\n",
       "    </tr>\n",
       "    <tr>\n",
       "      <th>...</th>\n",
       "      <td>...</td>\n",
       "      <td>...</td>\n",
       "      <td>...</td>\n",
       "      <td>...</td>\n",
       "      <td>...</td>\n",
       "    </tr>\n",
       "    <tr>\n",
       "      <th>1999989</th>\n",
       "      <td>-1</td>\n",
       "      <td>@sfr.fr</td>\n",
       "      <td>e409f05a10574ad</td>\n",
       "      <td>85200.0</td>\n",
       "      <td>NaN</td>\n",
       "    </tr>\n",
       "    <tr>\n",
       "      <th>1999993</th>\n",
       "      <td>-1</td>\n",
       "      <td>@gmail.com</td>\n",
       "      <td>2e92d0ae281932f</td>\n",
       "      <td>80090.0</td>\n",
       "      <td>F</td>\n",
       "    </tr>\n",
       "    <tr>\n",
       "      <th>1999994</th>\n",
       "      <td>-1</td>\n",
       "      <td>@orange.fr</td>\n",
       "      <td>56910c52ed70539</td>\n",
       "      <td>38100.0</td>\n",
       "      <td>NaN</td>\n",
       "    </tr>\n",
       "    <tr>\n",
       "      <th>1999998</th>\n",
       "      <td>-1</td>\n",
       "      <td>@hotmail.com</td>\n",
       "      <td>deb97a759ee7b8b</td>\n",
       "      <td>26240.0</td>\n",
       "      <td>M</td>\n",
       "    </tr>\n",
       "    <tr>\n",
       "      <th>1999999</th>\n",
       "      <td>-1</td>\n",
       "      <td>@orange.fr</td>\n",
       "      <td>f11d689dda42279</td>\n",
       "      <td>6670.0</td>\n",
       "      <td>NaN</td>\n",
       "    </tr>\n",
       "  </tbody>\n",
       "</table>\n",
       "<p>800000 rows × 5 columns</p>\n",
       "</div>"
      ],
      "text/plain": [
       "         yob        domain        firstname  zipcode gender\n",
       "3         -1  @hotmail.com  d3ca5dde60f88db  94100.0      M\n",
       "4         -1    @gmail.com  bdaae16837dd576  78100.0    NaN\n",
       "8         -1      @live.fr  a5410ee37744c57   5100.0      M\n",
       "9         -1   @wanadoo.fr  60784186ea5b29f  68300.0    NaN\n",
       "13        -1      @free.fr  d780182f77b1214  24100.0      M\n",
       "...      ...           ...              ...      ...    ...\n",
       "1999989   -1       @sfr.fr  e409f05a10574ad  85200.0    NaN\n",
       "1999993   -1    @gmail.com  2e92d0ae281932f  80090.0      F\n",
       "1999994   -1    @orange.fr  56910c52ed70539  38100.0    NaN\n",
       "1999998   -1  @hotmail.com  deb97a759ee7b8b  26240.0      M\n",
       "1999999   -1    @orange.fr  f11d689dda42279   6670.0    NaN\n",
       "\n",
       "[800000 rows x 5 columns]"
      ]
     },
     "execution_count": 89,
     "metadata": {},
     "output_type": "execute_result"
    }
   ],
   "source": [
    "X_missing_yob"
   ]
  },
  {
   "cell_type": "code",
   "execution_count": 90,
   "id": "9831a084",
   "metadata": {},
   "outputs": [],
   "source": [
    "data_known_yob_2=data_known.copy()"
   ]
  },
  {
   "cell_type": "code",
   "execution_count": 93,
   "id": "105b615c",
   "metadata": {},
   "outputs": [
    {
     "name": "stderr",
     "output_type": "stream",
     "text": [
      "/tmp/ipykernel_5232/2448104841.py:18: SettingWithCopyWarning: \n",
      "A value is trying to be set on a copy of a slice from a DataFrame.\n",
      "Try using .loc[row_indexer,col_indexer] = value instead\n",
      "\n",
      "See the caveats in the documentation: https://pandas.pydata.org/pandas-docs/stable/user_guide/indexing.html#returning-a-view-versus-a-copy\n",
      "  X_missing_yob['firstname_encoded'] = X_missing['firstname'].map(encoding_map_)\n",
      "/tmp/ipykernel_5232/2448104841.py:21: SettingWithCopyWarning: \n",
      "A value is trying to be set on a copy of a slice from a DataFrame\n",
      "\n",
      "See the caveats in the documentation: https://pandas.pydata.org/pandas-docs/stable/user_guide/indexing.html#returning-a-view-versus-a-copy\n",
      "  X_missing_yob['firstname_encoded'].fillna(global_mean_, inplace=True)\n"
     ]
    }
   ],
   "source": [
    "#target encoder\n",
    "# Étape 1 : Convertir 'gender' en valeurs numériques (M=1, F=0)\n",
    "data_known_yob_2['gender_encoded'] = data_known['gender'].map({'M': 1, 'F': 0})\n",
    "\n",
    "\n",
    "target_encoding_ = data_known_yob_2.groupby('firstname')['yob'].mean()\n",
    "\n",
    "# Remplacer 'firstname' par la moyenne de la cible\n",
    "data_known_yob_2['firstname_encoded'] = data_known_yob_2['firstname'].map(target_encoding_)\n",
    "\n",
    "#target encoder en réutilisant le mapping réalisé sur les données d'entrainement\n",
    "\n",
    "#reprendre le mapping dans la variable encoding_map\n",
    "encoding_map_ = data_known_yob_2.groupby('firstname')['yob'].mean().to_dict()\n",
    "global_mean_ = np.mean(list(encoding_map_.values()))\n",
    "\n",
    "#appliquer le target encoding sur X_missing\n",
    "X_missing_yob['firstname_encoded'] = X_missing['firstname'].map(encoding_map_)\n",
    "\n",
    "#remplir les prénoms inconnus avec la moyenne globale\n",
    "X_missing_yob['firstname_encoded'].fillna(global_mean_, inplace=True)\n"
   ]
  },
  {
   "cell_type": "code",
   "execution_count": 94,
   "id": "5bb33264",
   "metadata": {},
   "outputs": [
    {
     "name": "stderr",
     "output_type": "stream",
     "text": [
      "/tmp/ipykernel_5232/3971803994.py:17: SettingWithCopyWarning: \n",
      "A value is trying to be set on a copy of a slice from a DataFrame.\n",
      "Try using .loc[row_indexer,col_indexer] = value instead\n",
      "\n",
      "See the caveats in the documentation: https://pandas.pydata.org/pandas-docs/stable/user_guide/indexing.html#returning-a-view-versus-a-copy\n",
      "  X_missing_yob['domain_encoded'] = X_missing['domain'].map(encoding_map__)\n",
      "/tmp/ipykernel_5232/3971803994.py:20: SettingWithCopyWarning: \n",
      "A value is trying to be set on a copy of a slice from a DataFrame\n",
      "\n",
      "See the caveats in the documentation: https://pandas.pydata.org/pandas-docs/stable/user_guide/indexing.html#returning-a-view-versus-a-copy\n",
      "  X_missing_yob['domain_encoded'].fillna(global_mean__, inplace=True)\n"
     ]
    }
   ],
   "source": [
    "#target encoder\n",
    "# Étape 1 : Convertir 'gender' en valeurs numériques (M=1, F=0)\n",
    "\n",
    "\n",
    "target_encoding__ = data_known_yob_2.groupby('domain')['yob'].mean()\n",
    "\n",
    "# Remplacer 'firstname' par la moyenne de la cible\n",
    "data_known_yob_2['domain_encoded'] = data_known_yob_2['domain'].map(target_encoding__)\n",
    "\n",
    "#target encoder en réutilisant le mapping réalisé sur les données d'entrainement\n",
    "\n",
    "#reprendre le mapping dans la variable encoding_map\n",
    "encoding_map__ = data_known_yob_2.groupby('domain')['yob'].mean().to_dict()\n",
    "global_mean__ = np.mean(list(encoding_map__.values()))\n",
    "\n",
    "#appliquer le target encoding sur X_missing\n",
    "X_missing_yob['domain_encoded'] = X_missing['domain'].map(encoding_map__)\n",
    "\n",
    "#remplir les prénoms inconnus avec la moyenne globale\n",
    "X_missing_yob['domain_encoded'].fillna(global_mean__, inplace=True)\n"
   ]
  },
  {
   "cell_type": "code",
   "execution_count": 95,
   "id": "027897fb",
   "metadata": {},
   "outputs": [
    {
     "data": {
      "text/html": [
       "<div>\n",
       "<style scoped>\n",
       "    .dataframe tbody tr th:only-of-type {\n",
       "        vertical-align: middle;\n",
       "    }\n",
       "\n",
       "    .dataframe tbody tr th {\n",
       "        vertical-align: top;\n",
       "    }\n",
       "\n",
       "    .dataframe thead th {\n",
       "        text-align: right;\n",
       "    }\n",
       "</style>\n",
       "<table border=\"1\" class=\"dataframe\">\n",
       "  <thead>\n",
       "    <tr style=\"text-align: right;\">\n",
       "      <th></th>\n",
       "      <th>yob</th>\n",
       "      <th>domain</th>\n",
       "      <th>firstname</th>\n",
       "      <th>zipcode</th>\n",
       "      <th>gender</th>\n",
       "      <th>firstname_encoded</th>\n",
       "      <th>domain_encoded</th>\n",
       "    </tr>\n",
       "  </thead>\n",
       "  <tbody>\n",
       "    <tr>\n",
       "      <th>3</th>\n",
       "      <td>-1</td>\n",
       "      <td>@hotmail.com</td>\n",
       "      <td>d3ca5dde60f88db</td>\n",
       "      <td>94100.0</td>\n",
       "      <td>M</td>\n",
       "      <td>1973.470550</td>\n",
       "      <td>1979.678425</td>\n",
       "    </tr>\n",
       "    <tr>\n",
       "      <th>4</th>\n",
       "      <td>-1</td>\n",
       "      <td>@gmail.com</td>\n",
       "      <td>bdaae16837dd576</td>\n",
       "      <td>78100.0</td>\n",
       "      <td>NaN</td>\n",
       "      <td>1984.826018</td>\n",
       "      <td>1979.664939</td>\n",
       "    </tr>\n",
       "    <tr>\n",
       "      <th>8</th>\n",
       "      <td>-1</td>\n",
       "      <td>@live.fr</td>\n",
       "      <td>a5410ee37744c57</td>\n",
       "      <td>5100.0</td>\n",
       "      <td>M</td>\n",
       "      <td>1973.815107</td>\n",
       "      <td>1980.453293</td>\n",
       "    </tr>\n",
       "    <tr>\n",
       "      <th>9</th>\n",
       "      <td>-1</td>\n",
       "      <td>@wanadoo.fr</td>\n",
       "      <td>60784186ea5b29f</td>\n",
       "      <td>68300.0</td>\n",
       "      <td>NaN</td>\n",
       "      <td>1973.670244</td>\n",
       "      <td>1963.423745</td>\n",
       "    </tr>\n",
       "    <tr>\n",
       "      <th>13</th>\n",
       "      <td>-1</td>\n",
       "      <td>@free.fr</td>\n",
       "      <td>d780182f77b1214</td>\n",
       "      <td>24100.0</td>\n",
       "      <td>M</td>\n",
       "      <td>1957.703610</td>\n",
       "      <td>1967.800521</td>\n",
       "    </tr>\n",
       "    <tr>\n",
       "      <th>...</th>\n",
       "      <td>...</td>\n",
       "      <td>...</td>\n",
       "      <td>...</td>\n",
       "      <td>...</td>\n",
       "      <td>...</td>\n",
       "      <td>...</td>\n",
       "      <td>...</td>\n",
       "    </tr>\n",
       "    <tr>\n",
       "      <th>1999989</th>\n",
       "      <td>-1</td>\n",
       "      <td>@sfr.fr</td>\n",
       "      <td>e409f05a10574ad</td>\n",
       "      <td>85200.0</td>\n",
       "      <td>NaN</td>\n",
       "      <td>1988.606643</td>\n",
       "      <td>1968.597402</td>\n",
       "    </tr>\n",
       "    <tr>\n",
       "      <th>1999993</th>\n",
       "      <td>-1</td>\n",
       "      <td>@gmail.com</td>\n",
       "      <td>2e92d0ae281932f</td>\n",
       "      <td>80090.0</td>\n",
       "      <td>F</td>\n",
       "      <td>1979.349057</td>\n",
       "      <td>1979.664939</td>\n",
       "    </tr>\n",
       "    <tr>\n",
       "      <th>1999994</th>\n",
       "      <td>-1</td>\n",
       "      <td>@orange.fr</td>\n",
       "      <td>56910c52ed70539</td>\n",
       "      <td>38100.0</td>\n",
       "      <td>NaN</td>\n",
       "      <td>1988.406771</td>\n",
       "      <td>1966.842671</td>\n",
       "    </tr>\n",
       "    <tr>\n",
       "      <th>1999998</th>\n",
       "      <td>-1</td>\n",
       "      <td>@hotmail.com</td>\n",
       "      <td>deb97a759ee7b8b</td>\n",
       "      <td>26240.0</td>\n",
       "      <td>M</td>\n",
       "      <td>1982.110168</td>\n",
       "      <td>1979.678425</td>\n",
       "    </tr>\n",
       "    <tr>\n",
       "      <th>1999999</th>\n",
       "      <td>-1</td>\n",
       "      <td>@orange.fr</td>\n",
       "      <td>f11d689dda42279</td>\n",
       "      <td>6670.0</td>\n",
       "      <td>NaN</td>\n",
       "      <td>1966.039795</td>\n",
       "      <td>1966.842671</td>\n",
       "    </tr>\n",
       "  </tbody>\n",
       "</table>\n",
       "<p>800000 rows × 7 columns</p>\n",
       "</div>"
      ],
      "text/plain": [
       "         yob        domain        firstname  zipcode gender  \\\n",
       "3         -1  @hotmail.com  d3ca5dde60f88db  94100.0      M   \n",
       "4         -1    @gmail.com  bdaae16837dd576  78100.0    NaN   \n",
       "8         -1      @live.fr  a5410ee37744c57   5100.0      M   \n",
       "9         -1   @wanadoo.fr  60784186ea5b29f  68300.0    NaN   \n",
       "13        -1      @free.fr  d780182f77b1214  24100.0      M   \n",
       "...      ...           ...              ...      ...    ...   \n",
       "1999989   -1       @sfr.fr  e409f05a10574ad  85200.0    NaN   \n",
       "1999993   -1    @gmail.com  2e92d0ae281932f  80090.0      F   \n",
       "1999994   -1    @orange.fr  56910c52ed70539  38100.0    NaN   \n",
       "1999998   -1  @hotmail.com  deb97a759ee7b8b  26240.0      M   \n",
       "1999999   -1    @orange.fr  f11d689dda42279   6670.0    NaN   \n",
       "\n",
       "         firstname_encoded  domain_encoded  \n",
       "3              1973.470550     1979.678425  \n",
       "4              1984.826018     1979.664939  \n",
       "8              1973.815107     1980.453293  \n",
       "9              1973.670244     1963.423745  \n",
       "13             1957.703610     1967.800521  \n",
       "...                    ...             ...  \n",
       "1999989        1988.606643     1968.597402  \n",
       "1999993        1979.349057     1979.664939  \n",
       "1999994        1988.406771     1966.842671  \n",
       "1999998        1982.110168     1979.678425  \n",
       "1999999        1966.039795     1966.842671  \n",
       "\n",
       "[800000 rows x 7 columns]"
      ]
     },
     "execution_count": 95,
     "metadata": {},
     "output_type": "execute_result"
    }
   ],
   "source": [
    "X_missing_yob"
   ]
  },
  {
   "cell_type": "code",
   "execution_count": 96,
   "id": "c9daca2a",
   "metadata": {},
   "outputs": [],
   "source": [
    "X_missing_yob=X_missing_yob.drop(columns=[\"firstname\",\"domain\",\"gender\",\"yob\"],axis=1)"
   ]
  },
  {
   "cell_type": "code",
   "execution_count": 116,
   "id": "d76e81cd",
   "metadata": {},
   "outputs": [],
   "source": [
    "yob_pred=model2.predict(X_missing_yob)"
   ]
  },
  {
   "cell_type": "code",
   "execution_count": 121,
   "id": "505bb66b",
   "metadata": {},
   "outputs": [
    {
     "data": {
      "text/plain": [
       "array([1980, 1995, 1945, ..., 1993, 1984, 1948])"
      ]
     },
     "execution_count": 121,
     "metadata": {},
     "output_type": "execute_result"
    }
   ],
   "source": [
    "yob_pred"
   ]
  },
  {
   "cell_type": "code",
   "execution_count": 129,
   "id": "a8ee2808",
   "metadata": {},
   "outputs": [],
   "source": [
    "mask_missing_yob=(data_full[\"yob\"] == -1)"
   ]
  },
  {
   "cell_type": "code",
   "execution_count": 130,
   "id": "4ea195d6",
   "metadata": {},
   "outputs": [],
   "source": [
    "#verification que la taille des predictions correspond au nombre de valeurs manquantes dans le dataset initial\n",
    "assert mask_missing_yob.sum() == len(yob_pred), \"Mismatch entre NaNs et prédictions\"\n"
   ]
  },
  {
   "cell_type": "code",
   "execution_count": 133,
   "id": "ab70b662",
   "metadata": {},
   "outputs": [],
   "source": [
    "data_full.loc[mask_missing_yob, \"yob\"]=yob_pred"
   ]
  },
  {
   "cell_type": "code",
   "execution_count": 139,
   "id": "0db03da9",
   "metadata": {},
   "outputs": [
    {
     "data": {
      "image/png": "[encoded data removed]",
      "text/plain": [
       "<Figure size 640x480 with 1 Axes>"
      ]
     },
     "metadata": {},
     "output_type": "display_data"
    }
   ],
   "source": [
    "# Comparaison de la répartition\n",
    "original_yob = data[data[\"yob\"] != -1][\"yob\"]\n",
    "predicted_yob = data_full[\"yob\"] \n",
    "\n",
    "plt.hist(original_yob, bins=2, alpha=0.5, label=\"Connues\")\n",
    "plt.hist(predicted_yob, bins=2, alpha=0.5, label=\"Prédites\")\n",
    "plt.legend()\n",
    "plt.title(\"Distribution de 'gender' : connues vs prédites\")\n",
    "plt.show()\n"
   ]
  },
  {
   "cell_type": "code",
   "execution_count": 142,
   "id": "0014edc6",
   "metadata": {},
   "outputs": [
    {
     "name": "stdout",
     "output_type": "stream",
     "text": [
      "n2 = 1200000\n",
      "m2 = 2000000\n"
     ]
    }
   ],
   "source": [
    "n2=len(original_yob)\n",
    "m2=len(predicted)\n",
    "print(\"n2 =\",n2)\n",
    "print(\"m2 =\",m2)"
   ]
  },
  {
   "cell_type": "code",
   "execution_count": 143,
   "id": "5458e894",
   "metadata": {},
   "outputs": [
    {
     "name": "stdout",
     "output_type": "stream",
     "text": [
      "Accuracy : 0.019255833333333333\n"
     ]
    }
   ],
   "source": [
    "accuracy_yob=accuracy_score(original_yob,predicted_yob.sample(n2))\n",
    "print(\"Accuracy :\", accuracy_yob)"
   ]
  },
  {
   "cell_type": "code",
   "execution_count": 144,
   "id": "d1262123",
   "metadata": {},
   "outputs": [
    {
     "data": {
      "text/plain": [
       "84"
      ]
     },
     "execution_count": 144,
     "metadata": {},
     "output_type": "execute_result"
    }
   ],
   "source": [
    "data_full[\"yob\"].nunique()"
   ]
  },
  {
   "cell_type": "code",
   "execution_count": 145,
   "id": "32c79534",
   "metadata": {},
   "outputs": [
    {
     "data": {
      "text/plain": [
       "0.011904761904761904"
      ]
     },
     "execution_count": 145,
     "metadata": {},
     "output_type": "execute_result"
    }
   ],
   "source": [
    "1/84\n",
    "\n",
    "#notre imputer est meilleur que le hasard pour prédire l'année de naissance  0.019 > 0.012"
   ]
  },
  {
   "cell_type": "code",
   "execution_count": null,
   "id": "11470cad",
   "metadata": {},
   "outputs": [],
   "source": []
  }
 ],
 "metadata": {
  "kernelspec": {
   "display_name": "Python 3 (ipykernel)",
   "language": "python",
   "name": "python3"
  },
  "language_info": {
   "codemirror_mode": {
    "name": "ipython",
    "version": 3
   },
   "file_extension": ".py",
   "mimetype": "text/x-python",
   "name": "python",
   "nbconvert_exporter": "python",
   "pygments_lexer": "ipython3",
   "version": "3.9.13"
  }
 },
 "nbformat": 4,
 "nbformat_minor": 5
}
